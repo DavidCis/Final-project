{
 "cells": [
  {
   "cell_type": "code",
   "execution_count": 1,
   "metadata": {},
   "outputs": [],
   "source": [
    "import pandas as pd\n",
    "import numpy as np\n",
    "from datetime import datetime as dt\n",
    "from statsmodels.tsa.statespace.sarimax import SARIMAX\n",
    "from statsmodels.tsa.ar_model import AR\n",
    "from sklearn.model_selection import train_test_split as tts\n",
    "from sklearn.metrics import mean_squared_error as mse\n",
    "from hyperopt import fmin, hp, tpe, Trials, space_eval, STATUS_OK\n",
    "from hyperopt.pyll import scope as ho_scope\n",
    "from hyperopt.pyll.stochastic import sample as ho_sample\n",
    "from sklearn.ensemble import GradientBoostingRegressor as GBR\n",
    "from functools import reduce"
   ]
  },
  {
   "cell_type": "code",
   "execution_count": 2,
   "metadata": {},
   "outputs": [],
   "source": [
    "crude=pd.read_csv('Cushing, OK WTI Spot Price FOB (Dollars per Barrel).csv')\n",
    "refiner=pd.read_csv('U.S. Crude Oil Composite Acquisition Cost by Refiners (Dollars per Barrel).csv')\n",
    "usd=pd.read_csv('usd.csv')\n",
    "pan=pd.read_csv('Pandemics.csv')\n",
    "stocks=pd.read_csv('stocks.csv')"
   ]
  },
  {
   "cell_type": "code",
   "execution_count": 3,
   "metadata": {},
   "outputs": [],
   "source": [
    "def clean(df,x):\n",
    "\n",
    "    df.drop(['Apertura','Máximo','Mínimo','Vol.','% var.'],axis=1,inplace=True)\n",
    "\n",
    "    df.rename(columns={'Fecha': 'Date', 'Cierre': x}, inplace=True)\n",
    "\n",
    "    df['Date']=df.Date.apply(lambda x:x.replace('Ene','Jan'))\n",
    "    df['Date']=df.Date.apply(lambda x:x.replace('Dic','Dec'))\n",
    "    df['Date']=df.Date.apply(lambda x:x.replace('Abr','Apr'))\n",
    "    df['Date']=df.Date.apply(lambda x:x.replace('Ago','Aug'))\n",
    "    df['Date']=pd.to_datetime(df.Date)\n",
    "\n",
    "    df.sort_values(by='Date',inplace=True)\n",
    "    df.reset_index(drop=True,inplace=True)\n",
    "    df=df.set_index('Date')"
   ]
  },
  {
   "cell_type": "code",
   "execution_count": 4,
   "metadata": {},
   "outputs": [],
   "source": [
    "clean(stocks,'Stocks_price_usd')"
   ]
  },
  {
   "cell_type": "code",
   "execution_count": 5,
   "metadata": {},
   "outputs": [],
   "source": [
    "clean(usd,'usd')"
   ]
  },
  {
   "cell_type": "code",
   "execution_count": 6,
   "metadata": {},
   "outputs": [],
   "source": [
    "def clean2(df,x):\n",
    "    df.rename(columns={df.columns[1]: x}, inplace=True)\n",
    "    df['Date']=pd.to_datetime(df.Date)\n",
    "    df= df.set_index('Date')    "
   ]
  },
  {
   "cell_type": "code",
   "execution_count": 7,
   "metadata": {},
   "outputs": [],
   "source": [
    "clean2(crude,'Crude_oil_price_usd')\n",
    "clean2(refiner,'Refiners_Cost_usd')"
   ]
  },
  {
   "cell_type": "code",
   "execution_count": 8,
   "metadata": {},
   "outputs": [],
   "source": [
    "pan=pan.fillna('non')\n",
    "pan['Pandemics'] = np.where(pan['Pandemics']=='non',0,1)\n",
    "pan['Date']=pd.to_datetime(pan.Date)\n",
    "pan= pan.set_index('Date')"
   ]
  },
  {
   "cell_type": "code",
   "execution_count": 9,
   "metadata": {},
   "outputs": [],
   "source": [
    "dfs= [crude,refiner,usd,stocks,pan]"
   ]
  },
  {
   "cell_type": "code",
   "execution_count": 10,
   "metadata": {},
   "outputs": [],
   "source": [
    "df_merged = reduce(lambda  left,right: pd.merge(left,right,on=['Date'],\n",
    "                                            how='outer'), dfs)"
   ]
  },
  {
   "cell_type": "code",
   "execution_count": 11,
   "metadata": {},
   "outputs": [],
   "source": [
    "df_merged.drop(crude.tail(1).index,inplace=True)"
   ]
  },
  {
   "cell_type": "code",
   "execution_count": 12,
   "metadata": {},
   "outputs": [],
   "source": [
    "df_merged=df_merged.set_index('Date')"
   ]
  },
  {
   "cell_type": "code",
   "execution_count": 13,
   "metadata": {},
   "outputs": [
    {
     "data": {
      "text/html": [
       "<div>\n",
       "<style scoped>\n",
       "    .dataframe tbody tr th:only-of-type {\n",
       "        vertical-align: middle;\n",
       "    }\n",
       "\n",
       "    .dataframe tbody tr th {\n",
       "        vertical-align: top;\n",
       "    }\n",
       "\n",
       "    .dataframe thead th {\n",
       "        text-align: right;\n",
       "    }\n",
       "</style>\n",
       "<table border=\"1\" class=\"dataframe\">\n",
       "  <thead>\n",
       "    <tr style=\"text-align: right;\">\n",
       "      <th></th>\n",
       "      <th>Crude_oil_price_usd</th>\n",
       "      <th>Refiners_Cost_usd</th>\n",
       "      <th>usd</th>\n",
       "      <th>Stocks_price_usd</th>\n",
       "      <th>Pandemics</th>\n",
       "    </tr>\n",
       "    <tr>\n",
       "      <th>Date</th>\n",
       "      <th></th>\n",
       "      <th></th>\n",
       "      <th></th>\n",
       "      <th></th>\n",
       "      <th></th>\n",
       "    </tr>\n",
       "  </thead>\n",
       "  <tbody>\n",
       "    <tr>\n",
       "      <th>1986-01-01</th>\n",
       "      <td>22.93</td>\n",
       "      <td>25.63</td>\n",
       "      <td>121.91</td>\n",
       "      <td>18.83</td>\n",
       "      <td>0.0</td>\n",
       "    </tr>\n",
       "    <tr>\n",
       "      <th>1986-02-01</th>\n",
       "      <td>15.46</td>\n",
       "      <td>19.76</td>\n",
       "      <td>115.15</td>\n",
       "      <td>13.26</td>\n",
       "      <td>0.0</td>\n",
       "    </tr>\n",
       "    <tr>\n",
       "      <th>1986-03-01</th>\n",
       "      <td>12.61</td>\n",
       "      <td>14.80</td>\n",
       "      <td>118.08</td>\n",
       "      <td>10.42</td>\n",
       "      <td>0.0</td>\n",
       "    </tr>\n",
       "    <tr>\n",
       "      <th>1986-04-01</th>\n",
       "      <td>12.84</td>\n",
       "      <td>13.05</td>\n",
       "      <td>112.62</td>\n",
       "      <td>13.34</td>\n",
       "      <td>0.0</td>\n",
       "    </tr>\n",
       "    <tr>\n",
       "      <th>1986-05-01</th>\n",
       "      <td>15.38</td>\n",
       "      <td>13.05</td>\n",
       "      <td>117.65</td>\n",
       "      <td>14.30</td>\n",
       "      <td>0.0</td>\n",
       "    </tr>\n",
       "  </tbody>\n",
       "</table>\n",
       "</div>"
      ],
      "text/plain": [
       "            Crude_oil_price_usd  Refiners_Cost_usd     usd  Stocks_price_usd  \\\n",
       "Date                                                                           \n",
       "1986-01-01                22.93              25.63  121.91             18.83   \n",
       "1986-02-01                15.46              19.76  115.15             13.26   \n",
       "1986-03-01                12.61              14.80  118.08             10.42   \n",
       "1986-04-01                12.84              13.05  112.62             13.34   \n",
       "1986-05-01                15.38              13.05  117.65             14.30   \n",
       "\n",
       "            Pandemics  \n",
       "Date                   \n",
       "1986-01-01        0.0  \n",
       "1986-02-01        0.0  \n",
       "1986-03-01        0.0  \n",
       "1986-04-01        0.0  \n",
       "1986-05-01        0.0  "
      ]
     },
     "execution_count": 13,
     "metadata": {},
     "output_type": "execute_result"
    }
   ],
   "source": [
    "df_merged.head()"
   ]
  },
  {
   "cell_type": "code",
   "execution_count": 14,
   "metadata": {},
   "outputs": [
    {
     "name": "stderr",
     "output_type": "stream",
     "text": [
      "/home/david/.local/lib/python3.6/site-packages/statsmodels/tsa/base/tsa_model.py:162: ValueWarning: No frequency information was provided, so inferred frequency MS will be used.\n",
      "  % freq, ValueWarning)\n",
      "/home/david/.local/lib/python3.6/site-packages/statsmodels/tsa/base/tsa_model.py:162: ValueWarning: No frequency information was provided, so inferred frequency MS will be used.\n",
      "  % freq, ValueWarning)\n",
      "/home/david/.local/lib/python3.6/site-packages/statsmodels/base/model.py:568: ConvergenceWarning: Maximum Likelihood optimization failed to converge. Check mle_retvals\n",
      "  \"Check mle_retvals\", ConvergenceWarning)\n"
     ]
    },
    {
     "name": "stdout",
     "output_type": "stream",
     "text": [
      "Error mae:  10.920777253616988\n",
      "SARIMAX DF              real       pred       diff\n",
      "2019-06-01  58.47  48.892064  -9.577936\n",
      "2019-07-01  58.58  47.515085 -11.064915\n",
      "2019-08-01  55.10  47.222992  -7.877008\n",
      "2019-09-01  54.07  46.247151  -7.822849\n",
      "2019-10-01  54.18  46.764773  -7.415227\n",
      "2019-11-01  55.17  45.961516  -9.208484\n",
      "2019-12-01  61.06  48.603875 -12.456125\n",
      "2020-01-01  51.56  51.767867   0.207867\n",
      "2020-02-01  44.76  54.567340   9.807340\n",
      "2020-03-01  20.48  54.250024  33.770024\n"
     ]
    }
   ],
   "source": [
    "train, test = df_merged.Stocks_price_usd[:-10], df_merged.Stocks_price_usd[-10:]\n",
    "modelo=SARIMAX(train, order=(20, 1, 5)).fit(disp=False)\n",
    "                     \n",
    "pred=modelo.predict(len(train), len(df_merged.Stocks_price_usd)-1)     \n",
    "error=(pred-test).abs().sum()/len(pred) \n",
    "print ('Error mae: ', error)\n",
    "res=pd.DataFrame({'real':test, 'pred':pred, 'diff':pred-test})\n",
    "print('SARIMAX DF',res)"
   ]
  },
  {
   "cell_type": "code",
   "execution_count": 15,
   "metadata": {},
   "outputs": [
    {
     "name": "stdout",
     "output_type": "stream",
     "text": [
      "Error mae:  10.4363222394238\n",
      "AR DF              real       pred       diff\n",
      "2019-06-01  58.47  49.457428  -9.012572\n",
      "2019-07-01  58.58  48.941630  -9.638370\n",
      "2019-08-01  55.10  48.724684  -6.375316\n",
      "2019-09-01  54.07  46.544421  -7.525579\n",
      "2019-10-01  54.18  47.052991  -7.127009\n",
      "2019-11-01  55.17  47.074473  -8.095527\n",
      "2019-12-01  61.06  49.685949 -11.374051\n",
      "2020-01-01  51.56  52.434466   0.874466\n",
      "2020-02-01  44.76  54.516382   9.756382\n",
      "2020-03-01  20.48  55.063950  34.583950\n"
     ]
    },
    {
     "name": "stderr",
     "output_type": "stream",
     "text": [
      "/home/david/.local/lib/python3.6/site-packages/statsmodels/tsa/ar_model.py:691: FutureWarning: \n",
      "statsmodels.tsa.AR has been deprecated in favor of statsmodels.tsa.AutoReg and\n",
      "statsmodels.tsa.SARIMAX.\n",
      "\n",
      "AutoReg adds the ability to specify exogenous variables, include time trends,\n",
      "and add seasonal dummies. The AutoReg API differs from AR since the model is\n",
      "treated as immutable, and so the entire specification including the lag\n",
      "length must be specified when creating the model. This change is too\n",
      "substantial to incorporate into the existing AR api. The function\n",
      "ar_select_order performs lag length selection for AutoReg models.\n",
      "\n",
      "AutoReg only estimates parameters using conditional MLE (OLS). Use SARIMAX to\n",
      "estimate ARX and related models using full MLE via the Kalman Filter.\n",
      "\n",
      "To silence this warning and continue using AR until it is removed, use:\n",
      "\n",
      "import warnings\n",
      "warnings.filterwarnings('ignore', 'statsmodels.tsa.ar_model.AR', FutureWarning)\n",
      "\n",
      "  warnings.warn(AR_DEPRECATION_WARN, FutureWarning)\n",
      "/home/david/.local/lib/python3.6/site-packages/statsmodels/tsa/base/tsa_model.py:162: ValueWarning: No frequency information was provided, so inferred frequency MS will be used.\n",
      "  % freq, ValueWarning)\n"
     ]
    }
   ],
   "source": [
    "modelo=AR(train).fit()\n",
    "pred=modelo.predict(len(train), len(df_merged.Stocks_price_usd)-1)\n",
    "\n",
    "error=(pred-test).abs().sum()/len(pred)\n",
    "\n",
    "print ('Error mae: ', error)\n",
    "\n",
    "res=pd.DataFrame({'real':test, 'pred':pred, 'diff':pred-test})\n",
    "print('AR DF',res)"
   ]
  },
  {
   "cell_type": "code",
   "execution_count": 16,
   "metadata": {},
   "outputs": [],
   "source": [
    "dffinal=df_merged.copy()"
   ]
  },
  {
   "cell_type": "code",
   "execution_count": 17,
   "metadata": {},
   "outputs": [],
   "source": [
    "df_merged.reset_index(level=0, inplace=True)"
   ]
  },
  {
   "cell_type": "code",
   "execution_count": 18,
   "metadata": {},
   "outputs": [],
   "source": [
    "df_merged['Month']=df_merged.Date.dt.month\n",
    "df_merged['Year']=df_merged.Date.dt.year\n",
    "df_merged.drop(['Date'],axis=1,inplace=True)\n",
    "X=df_merged.drop('Stocks_price_usd', axis=1)\n",
    "y=df_merged.Stocks_price_usd\n",
    "X_train, X_test, y_train, y_test=tts(X, y)"
   ]
  },
  {
   "cell_type": "code",
   "execution_count": 19,
   "metadata": {},
   "outputs": [],
   "source": [
    "hyper={\n",
    "    'n_estimators':hp.quniform('n_estimators', 10, 10000, 10),\n",
    "    \n",
    "    'learning_rate':hp.uniform('learning_rate', 0.0001, 1.0),\n",
    "    \n",
    "    'subsample':hp.uniform('x_subsample', 0.5, 1),\n",
    "    \n",
    "    'alpha':hp.uniform('x_alpha', 0.5, 0.9),\n",
    "    \n",
    "    'validation_fraction':hp.uniform('x_validation_fraction', 0.1, 0.4)\n",
    "}"
   ]
  },
  {
   "cell_type": "code",
   "execution_count": 20,
   "metadata": {},
   "outputs": [],
   "source": [
    "def goal(hyper):\n",
    "    \n",
    "    modelo=GBR(\n",
    "        n_estimators=int(hyper['n_estimators']),\n",
    "        learning_rate=hyper['learning_rate'],\n",
    "        subsample=hyper['subsample'],\n",
    "        alpha=hyper['alpha'],\n",
    "        validation_fraction=hyper['validation_fraction']\n",
    "    \n",
    "    )\n",
    "    \n",
    "    eval_set=[(X_train, y_train), (X_test, y_test)]\n",
    "    \n",
    "    modelo.fit(X_train, y_train)\n",
    "    \n",
    "    y_pred=modelo.predict(X_test)\n",
    "    \n",
    "    rmse=mse(y_test, y_pred)**0.5\n",
    "    \n",
    "    return {'loss':rmse, 'status':STATUS_OK}"
   ]
  },
  {
   "cell_type": "code",
   "execution_count": 21,
   "metadata": {},
   "outputs": [
    {
     "name": "stdout",
     "output_type": "stream",
     "text": [
      "100%|██████████| 5/5 [00:08<00:00,  1.74s/trial, best loss: 2.9798810383891206]\n",
      "Best hyper-parameters {'learning_rate': 0.3075434241333038, 'n_estimators': 3520.0, 'x_alpha': 0.6707033521395891, 'x_subsample': 0.7880555799433908, 'x_validation_fraction': 0.16329493646759385}\n"
     ]
    }
   ],
   "source": [
    "trials_reg=Trials()\n",
    "\n",
    "best=fmin(fn=goal, space=hyper, algo=tpe.suggest, max_evals=5, trials=Trials())\n",
    "\n",
    "print('Best hyper-parameters',best)"
   ]
  },
  {
   "cell_type": "code",
   "execution_count": 22,
   "metadata": {},
   "outputs": [],
   "source": [
    "modelo=GBR(\n",
    "    n_estimators=int(best['n_estimators']),\n",
    "    learning_rate=best['learning_rate'],\n",
    "    subsample= best['x_subsample'],\n",
    "    alpha=best['x_alpha'],\n",
    "    validation_fraction=best['x_validation_fraction'],\n",
    "    )"
   ]
  },
  {
   "cell_type": "code",
   "execution_count": 23,
   "metadata": {},
   "outputs": [
    {
     "name": "stdout",
     "output_type": "stream",
     "text": [
      "Mean square error 9.673637966086103\n"
     ]
    }
   ],
   "source": [
    "modelo.fit(X_train, y_train)\n",
    "y_pred=modelo.predict(X_test)\n",
    "print('Mean square error',mse(y_test, y_pred))"
   ]
  },
  {
   "cell_type": "code",
   "execution_count": 24,
   "metadata": {},
   "outputs": [
    {
     "name": "stdout",
     "output_type": "stream",
     "text": [
      "train R2: 0.9999999998948014 -- test R2: 0.9885928574188488\n"
     ]
    }
   ],
   "source": [
    "train_score=modelo.score(X_train, y_train) #R2\n",
    "test_score=modelo.score(X_test, y_test)\n",
    "\n",
    "print ('train R2:',train_score, '-- test R2:', test_score)"
   ]
  },
  {
   "cell_type": "code",
   "execution_count": 25,
   "metadata": {},
   "outputs": [],
   "source": [
    "pred=df_merged.drop('Stocks_price_usd', axis=1)"
   ]
  },
  {
   "cell_type": "code",
   "execution_count": 26,
   "metadata": {},
   "outputs": [],
   "source": [
    "res=modelo.predict(pred)\n"
   ]
  },
  {
   "cell_type": "code",
   "execution_count": 30,
   "metadata": {},
   "outputs": [],
   "source": [
    "dffinal.drop(['Refiners_Cost_usd','usd','Stocks_price_usd','Pandemics'],axis=1,inplace=True)"
   ]
  },
  {
   "cell_type": "code",
   "execution_count": 31,
   "metadata": {},
   "outputs": [],
   "source": [
    "dffinal.rename(columns={'Crude_oil_price_usd': 'Real'}, inplace=True)"
   ]
  },
  {
   "cell_type": "code",
   "execution_count": 34,
   "metadata": {},
   "outputs": [],
   "source": [
    "dffinal['Predicitions']=res"
   ]
  },
  {
   "cell_type": "code",
   "execution_count": 38,
   "metadata": {},
   "outputs": [],
   "source": [
    "dffinal['Difference']=dffinal.Predicitions-dffinal.Real"
   ]
  },
  {
   "cell_type": "code",
   "execution_count": 39,
   "metadata": {},
   "outputs": [
    {
     "data": {
      "text/html": [
       "<div>\n",
       "<style scoped>\n",
       "    .dataframe tbody tr th:only-of-type {\n",
       "        vertical-align: middle;\n",
       "    }\n",
       "\n",
       "    .dataframe tbody tr th {\n",
       "        vertical-align: top;\n",
       "    }\n",
       "\n",
       "    .dataframe thead th {\n",
       "        text-align: right;\n",
       "    }\n",
       "</style>\n",
       "<table border=\"1\" class=\"dataframe\">\n",
       "  <thead>\n",
       "    <tr style=\"text-align: right;\">\n",
       "      <th></th>\n",
       "      <th>Real</th>\n",
       "      <th>Predicitions</th>\n",
       "      <th>Difference</th>\n",
       "    </tr>\n",
       "    <tr>\n",
       "      <th>Date</th>\n",
       "      <th></th>\n",
       "      <th></th>\n",
       "      <th></th>\n",
       "    </tr>\n",
       "  </thead>\n",
       "  <tbody>\n",
       "    <tr>\n",
       "      <th>1986-01-01</th>\n",
       "      <td>22.93</td>\n",
       "      <td>18.829899</td>\n",
       "      <td>-4.100101</td>\n",
       "    </tr>\n",
       "    <tr>\n",
       "      <th>1986-02-01</th>\n",
       "      <td>15.46</td>\n",
       "      <td>13.106096</td>\n",
       "      <td>-2.353904</td>\n",
       "    </tr>\n",
       "    <tr>\n",
       "      <th>1986-03-01</th>\n",
       "      <td>12.61</td>\n",
       "      <td>10.420210</td>\n",
       "      <td>-2.189790</td>\n",
       "    </tr>\n",
       "    <tr>\n",
       "      <th>1986-04-01</th>\n",
       "      <td>12.84</td>\n",
       "      <td>11.383324</td>\n",
       "      <td>-1.456676</td>\n",
       "    </tr>\n",
       "    <tr>\n",
       "      <th>1986-05-01</th>\n",
       "      <td>15.38</td>\n",
       "      <td>14.299951</td>\n",
       "      <td>-1.080049</td>\n",
       "    </tr>\n",
       "  </tbody>\n",
       "</table>\n",
       "</div>"
      ],
      "text/plain": [
       "             Real  Predicitions  Difference\n",
       "Date                                       \n",
       "1986-01-01  22.93     18.829899   -4.100101\n",
       "1986-02-01  15.46     13.106096   -2.353904\n",
       "1986-03-01  12.61     10.420210   -2.189790\n",
       "1986-04-01  12.84     11.383324   -1.456676\n",
       "1986-05-01  15.38     14.299951   -1.080049"
      ]
     },
     "execution_count": 39,
     "metadata": {},
     "output_type": "execute_result"
    }
   ],
   "source": [
    "dffinal.head()"
   ]
  },
  {
   "cell_type": "code",
   "execution_count": null,
   "metadata": {},
   "outputs": [],
   "source": []
  }
 ],
 "metadata": {
  "kernelspec": {
   "display_name": "Python 3",
   "language": "python",
   "name": "python3"
  },
  "language_info": {
   "codemirror_mode": {
    "name": "ipython",
    "version": 3
   },
   "file_extension": ".py",
   "mimetype": "text/x-python",
   "name": "python",
   "nbconvert_exporter": "python",
   "pygments_lexer": "ipython3",
   "version": "3.6.9"
  }
 },
 "nbformat": 4,
 "nbformat_minor": 4
}
