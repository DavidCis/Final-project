{
 "cells": [
  {
   "cell_type": "code",
   "execution_count": 1,
   "metadata": {},
   "outputs": [],
   "source": [
    "import pandas as pd\n",
    "import numpy as np\n",
    "from datetime import datetime as dt\n",
    "from statsmodels.tsa.statespace.sarimax import SARIMAX\n",
    "from statsmodels.tsa.ar_model import AR\n",
    "from sklearn.model_selection import train_test_split as tts\n",
    "from sklearn.metrics import mean_squared_error as mse\n",
    "from hyperopt import fmin, hp, tpe, Trials, space_eval, STATUS_OK\n",
    "from hyperopt.pyll import scope as ho_scope\n",
    "from hyperopt.pyll.stochastic import sample as ho_sample\n",
    "from sklearn.ensemble import GradientBoostingRegressor as GBR\n",
    "from functools import reduce\n",
    "from fbprophet import Prophet\n",
    "from sklearn.metrics import mean_squared_error, mean_absolute_error\n",
    "from fbprophet.plot import add_changepoints_to_plot\n",
    "from arch import arch_model\n",
    "from matplotlib import pyplot"
   ]
  },
  {
   "cell_type": "code",
   "execution_count": 2,
   "metadata": {},
   "outputs": [],
   "source": [
    "crude=pd.read_csv(\"../data/Cushing, OK WTI Spot Price FOB (Dollars per Barrel).csv\")\n",
    "refiner=pd.read_csv('../data/U.S. Crude Oil Composite Acquisition Cost by Refiners (Dollars per Barrel).csv')\n",
    "usd=pd.read_csv('../data/usd.csv')\n",
    "pan=pd.read_csv('../data/Pandemics.csv')\n",
    "stocks=pd.read_csv('../data/stocks.csv')"
   ]
  },
  {
   "cell_type": "code",
   "execution_count": 3,
   "metadata": {},
   "outputs": [],
   "source": [
    "def clean(df,x):\n",
    "\n",
    "    df.drop(['Apertura','Máximo','Mínimo','Vol.','% var.'],axis=1,inplace=True)\n",
    "\n",
    "    df.rename(columns={'Fecha': 'Date', 'Cierre': x}, inplace=True)\n",
    "\n",
    "    df['Date']=df.Date.apply(lambda x:x.replace('Ene','Jan'))\n",
    "    df['Date']=df.Date.apply(lambda x:x.replace('Dic','Dec'))\n",
    "    df['Date']=df.Date.apply(lambda x:x.replace('Abr','Apr'))\n",
    "    df['Date']=df.Date.apply(lambda x:x.replace('Ago','Aug'))\n",
    "    df['Date']=pd.to_datetime(df.Date)\n",
    "\n",
    "    df.sort_values(by='Date',inplace=True)\n",
    "    df.reset_index(drop=True,inplace=True)\n",
    "    df=df.set_index('Date')"
   ]
  },
  {
   "cell_type": "code",
   "execution_count": 4,
   "metadata": {},
   "outputs": [],
   "source": [
    "clean(stocks,'Stocks_price_usd')"
   ]
  },
  {
   "cell_type": "code",
   "execution_count": 5,
   "metadata": {},
   "outputs": [],
   "source": [
    "clean(usd,'usd')"
   ]
  },
  {
   "cell_type": "code",
   "execution_count": 6,
   "metadata": {},
   "outputs": [],
   "source": [
    "def clean2(df,x):\n",
    "    df.rename(columns={df.columns[1]: x}, inplace=True)\n",
    "    df['Date']=pd.to_datetime(df.Date)\n",
    "    df= df.set_index('Date')    "
   ]
  },
  {
   "cell_type": "code",
   "execution_count": 7,
   "metadata": {},
   "outputs": [],
   "source": [
    "clean2(crude,'Crude_oil_price_usd')\n",
    "clean2(refiner,'Refiners_Cost_usd')"
   ]
  },
  {
   "cell_type": "code",
   "execution_count": 8,
   "metadata": {},
   "outputs": [],
   "source": [
    "pan=pan.fillna('non')\n",
    "pan['Pandemics'] = np.where(pan['Pandemics']=='non',0,1)\n",
    "pan['Date']=pd.to_datetime(pan.Date)\n",
    "pan= pan.set_index('Date')"
   ]
  },
  {
   "cell_type": "code",
   "execution_count": 9,
   "metadata": {},
   "outputs": [],
   "source": [
    "dfs= [crude,refiner,usd,stocks,pan]"
   ]
  },
  {
   "cell_type": "code",
   "execution_count": 10,
   "metadata": {},
   "outputs": [],
   "source": [
    "df_merged = reduce(lambda  left,right: pd.merge(left,right,on=['Date'],\n",
    "                                            how='outer'), dfs)"
   ]
  },
  {
   "cell_type": "code",
   "execution_count": 11,
   "metadata": {},
   "outputs": [],
   "source": [
    "df_merged.drop(crude.tail(1).index,inplace=True)"
   ]
  },
  {
   "cell_type": "code",
   "execution_count": 12,
   "metadata": {},
   "outputs": [],
   "source": [
    "df_merged=df_merged.set_index('Date')"
   ]
  },
  {
   "cell_type": "code",
   "execution_count": 13,
   "metadata": {},
   "outputs": [
    {
     "data": {
      "text/html": [
       "<div>\n",
       "<style scoped>\n",
       "    .dataframe tbody tr th:only-of-type {\n",
       "        vertical-align: middle;\n",
       "    }\n",
       "\n",
       "    .dataframe tbody tr th {\n",
       "        vertical-align: top;\n",
       "    }\n",
       "\n",
       "    .dataframe thead th {\n",
       "        text-align: right;\n",
       "    }\n",
       "</style>\n",
       "<table border=\"1\" class=\"dataframe\">\n",
       "  <thead>\n",
       "    <tr style=\"text-align: right;\">\n",
       "      <th></th>\n",
       "      <th>Crude_oil_price_usd</th>\n",
       "      <th>Refiners_Cost_usd</th>\n",
       "      <th>usd</th>\n",
       "      <th>Stocks_price_usd</th>\n",
       "      <th>Pandemics</th>\n",
       "    </tr>\n",
       "    <tr>\n",
       "      <th>Date</th>\n",
       "      <th></th>\n",
       "      <th></th>\n",
       "      <th></th>\n",
       "      <th></th>\n",
       "      <th></th>\n",
       "    </tr>\n",
       "  </thead>\n",
       "  <tbody>\n",
       "    <tr>\n",
       "      <th>1986-01-01</th>\n",
       "      <td>22.93</td>\n",
       "      <td>25.63</td>\n",
       "      <td>121.91</td>\n",
       "      <td>18.83</td>\n",
       "      <td>0.0</td>\n",
       "    </tr>\n",
       "    <tr>\n",
       "      <th>1986-02-01</th>\n",
       "      <td>15.46</td>\n",
       "      <td>19.76</td>\n",
       "      <td>115.15</td>\n",
       "      <td>13.26</td>\n",
       "      <td>0.0</td>\n",
       "    </tr>\n",
       "    <tr>\n",
       "      <th>1986-03-01</th>\n",
       "      <td>12.61</td>\n",
       "      <td>14.80</td>\n",
       "      <td>118.08</td>\n",
       "      <td>10.42</td>\n",
       "      <td>0.0</td>\n",
       "    </tr>\n",
       "    <tr>\n",
       "      <th>1986-04-01</th>\n",
       "      <td>12.84</td>\n",
       "      <td>13.05</td>\n",
       "      <td>112.62</td>\n",
       "      <td>13.34</td>\n",
       "      <td>0.0</td>\n",
       "    </tr>\n",
       "    <tr>\n",
       "      <th>1986-05-01</th>\n",
       "      <td>15.38</td>\n",
       "      <td>13.05</td>\n",
       "      <td>117.65</td>\n",
       "      <td>14.30</td>\n",
       "      <td>0.0</td>\n",
       "    </tr>\n",
       "  </tbody>\n",
       "</table>\n",
       "</div>"
      ],
      "text/plain": [
       "            Crude_oil_price_usd  Refiners_Cost_usd     usd  Stocks_price_usd  \\\n",
       "Date                                                                           \n",
       "1986-01-01                22.93              25.63  121.91             18.83   \n",
       "1986-02-01                15.46              19.76  115.15             13.26   \n",
       "1986-03-01                12.61              14.80  118.08             10.42   \n",
       "1986-04-01                12.84              13.05  112.62             13.34   \n",
       "1986-05-01                15.38              13.05  117.65             14.30   \n",
       "\n",
       "            Pandemics  \n",
       "Date                   \n",
       "1986-01-01        0.0  \n",
       "1986-02-01        0.0  \n",
       "1986-03-01        0.0  \n",
       "1986-04-01        0.0  \n",
       "1986-05-01        0.0  "
      ]
     },
     "execution_count": 13,
     "metadata": {},
     "output_type": "execute_result"
    }
   ],
   "source": [
    "df_merged.head()"
   ]
  },
  {
   "cell_type": "code",
   "execution_count": 14,
   "metadata": {},
   "outputs": [
    {
     "name": "stderr",
     "output_type": "stream",
     "text": [
      "/home/david/.local/lib/python3.6/site-packages/statsmodels/tsa/base/tsa_model.py:162: ValueWarning:\n",
      "\n",
      "No frequency information was provided, so inferred frequency MS will be used.\n",
      "\n",
      "/home/david/.local/lib/python3.6/site-packages/statsmodels/tsa/base/tsa_model.py:162: ValueWarning:\n",
      "\n",
      "No frequency information was provided, so inferred frequency MS will be used.\n",
      "\n",
      "/home/david/.local/lib/python3.6/site-packages/statsmodels/base/model.py:568: ConvergenceWarning:\n",
      "\n",
      "Maximum Likelihood optimization failed to converge. Check mle_retvals\n",
      "\n"
     ]
    },
    {
     "name": "stdout",
     "output_type": "stream",
     "text": [
      "Error mae:  10.920777253616988\n",
      "SARIMAX DF              real       pred       diff\n",
      "2019-06-01  58.47  48.892064  -9.577936\n",
      "2019-07-01  58.58  47.515085 -11.064915\n",
      "2019-08-01  55.10  47.222992  -7.877008\n",
      "2019-09-01  54.07  46.247151  -7.822849\n",
      "2019-10-01  54.18  46.764773  -7.415227\n",
      "2019-11-01  55.17  45.961516  -9.208484\n",
      "2019-12-01  61.06  48.603875 -12.456125\n",
      "2020-01-01  51.56  51.767867   0.207867\n",
      "2020-02-01  44.76  54.567340   9.807340\n",
      "2020-03-01  20.48  54.250024  33.770024\n"
     ]
    }
   ],
   "source": [
    "train, test = df_merged.Stocks_price_usd[:-10], df_merged.Stocks_price_usd[-10:]\n",
    "modelo=SARIMAX(train, order=(20, 1, 5)).fit(disp=False)\n",
    "                     \n",
    "pred=modelo.predict(len(train), len(df_merged.Stocks_price_usd)-1)     \n",
    "error=(pred-test).abs().sum()/len(pred) \n",
    "print ('Error mae: ', error)\n",
    "res=pd.DataFrame({'real':test, 'pred':pred, 'diff':pred-test})\n",
    "print('SARIMAX DF',res)"
   ]
  },
  {
   "cell_type": "code",
   "execution_count": 15,
   "metadata": {},
   "outputs": [
    {
     "name": "stdout",
     "output_type": "stream",
     "text": [
      "Error mae:  10.4363222394238\n",
      "AR DF              real       pred       diff\n",
      "2019-06-01  58.47  49.457428  -9.012572\n",
      "2019-07-01  58.58  48.941630  -9.638370\n",
      "2019-08-01  55.10  48.724684  -6.375316\n",
      "2019-09-01  54.07  46.544421  -7.525579\n",
      "2019-10-01  54.18  47.052991  -7.127009\n",
      "2019-11-01  55.17  47.074473  -8.095527\n",
      "2019-12-01  61.06  49.685949 -11.374051\n",
      "2020-01-01  51.56  52.434466   0.874466\n",
      "2020-02-01  44.76  54.516382   9.756382\n",
      "2020-03-01  20.48  55.063950  34.583950\n"
     ]
    },
    {
     "name": "stderr",
     "output_type": "stream",
     "text": [
      "/home/david/.local/lib/python3.6/site-packages/statsmodels/tsa/ar_model.py:691: FutureWarning:\n",
      "\n",
      "\n",
      "statsmodels.tsa.AR has been deprecated in favor of statsmodels.tsa.AutoReg and\n",
      "statsmodels.tsa.SARIMAX.\n",
      "\n",
      "AutoReg adds the ability to specify exogenous variables, include time trends,\n",
      "and add seasonal dummies. The AutoReg API differs from AR since the model is\n",
      "treated as immutable, and so the entire specification including the lag\n",
      "length must be specified when creating the model. This change is too\n",
      "substantial to incorporate into the existing AR api. The function\n",
      "ar_select_order performs lag length selection for AutoReg models.\n",
      "\n",
      "AutoReg only estimates parameters using conditional MLE (OLS). Use SARIMAX to\n",
      "estimate ARX and related models using full MLE via the Kalman Filter.\n",
      "\n",
      "To silence this warning and continue using AR until it is removed, use:\n",
      "\n",
      "import warnings\n",
      "warnings.filterwarnings('ignore', 'statsmodels.tsa.ar_model.AR', FutureWarning)\n",
      "\n",
      "\n",
      "/home/david/.local/lib/python3.6/site-packages/statsmodels/tsa/base/tsa_model.py:162: ValueWarning:\n",
      "\n",
      "No frequency information was provided, so inferred frequency MS will be used.\n",
      "\n"
     ]
    }
   ],
   "source": [
    "modelo=AR(train).fit()\n",
    "pred=modelo.predict(len(train), len(df_merged.Stocks_price_usd)-1)\n",
    "\n",
    "error=(pred-test).abs().sum()/len(pred)\n",
    "\n",
    "print ('Error mae: ', error)\n",
    "\n",
    "res=pd.DataFrame({'real':test, 'pred':pred, 'diff':pred-test})\n",
    "print('AR DF',res)"
   ]
  },
  {
   "cell_type": "code",
   "execution_count": 16,
   "metadata": {},
   "outputs": [],
   "source": [
    "dffinal=df_merged.copy()"
   ]
  },
  {
   "cell_type": "code",
   "execution_count": 17,
   "metadata": {},
   "outputs": [],
   "source": [
    "df_arch=df_merged.copy()"
   ]
  },
  {
   "cell_type": "code",
   "execution_count": 18,
   "metadata": {},
   "outputs": [],
   "source": [
    "df_merged.reset_index(level=0, inplace=True)"
   ]
  },
  {
   "cell_type": "code",
   "execution_count": 19,
   "metadata": {},
   "outputs": [],
   "source": [
    "df_merged['Month']=df_merged.Date.dt.month\n",
    "df_merged['Year']=df_merged.Date.dt.year\n",
    "df_merged.drop(['Date'],axis=1,inplace=True)\n",
    "X=df_merged.drop('Stocks_price_usd', axis=1)\n",
    "y=df_merged.Stocks_price_usd\n",
    "X_train, X_test, y_train, y_test=tts(X, y)"
   ]
  },
  {
   "cell_type": "code",
   "execution_count": 20,
   "metadata": {},
   "outputs": [],
   "source": [
    "hyper={\n",
    "    'n_estimators':hp.quniform('n_estimators', 10, 10000, 10),\n",
    "    \n",
    "    'learning_rate':hp.uniform('learning_rate', 0.0001, 1.0),\n",
    "    \n",
    "    'subsample':hp.uniform('x_subsample', 0.5, 1),\n",
    "    \n",
    "    'alpha':hp.uniform('x_alpha', 0.5, 0.9),\n",
    "    \n",
    "    'validation_fraction':hp.uniform('x_validation_fraction', 0.1, 0.4)\n",
    "}"
   ]
  },
  {
   "cell_type": "code",
   "execution_count": 21,
   "metadata": {},
   "outputs": [],
   "source": [
    "def goal(hyper):\n",
    "    \n",
    "    modelo=GBR(\n",
    "        n_estimators=int(hyper['n_estimators']),\n",
    "        learning_rate=hyper['learning_rate'],\n",
    "        subsample=hyper['subsample'],\n",
    "        alpha=hyper['alpha'],\n",
    "        validation_fraction=hyper['validation_fraction']\n",
    "    \n",
    "    )\n",
    "    \n",
    "    eval_set=[(X_train, y_train), (X_test, y_test)]\n",
    "    \n",
    "    modelo.fit(X_train, y_train)\n",
    "    \n",
    "    y_pred=modelo.predict(X_test)\n",
    "    \n",
    "    rmse=mse(y_test, y_pred)**0.5\n",
    "    \n",
    "    return {'loss':rmse, 'status':STATUS_OK}"
   ]
  },
  {
   "cell_type": "code",
   "execution_count": 22,
   "metadata": {},
   "outputs": [
    {
     "name": "stdout",
     "output_type": "stream",
     "text": [
      "100%|██████████| 5/5 [00:08<00:00,  1.70s/trial, best loss: 2.6337308551185568]\n",
      "Best hyper-parameters {'learning_rate': 0.0039390605034923636, 'n_estimators': 2930.0, 'x_alpha': 0.7647397461936659, 'x_subsample': 0.8144842471018836, 'x_validation_fraction': 0.298669737527589}\n"
     ]
    }
   ],
   "source": [
    "trials_reg=Trials()\n",
    "\n",
    "best=fmin(fn=goal, space=hyper, algo=tpe.suggest, max_evals=5, trials=Trials())\n",
    "\n",
    "print('Best hyper-parameters',best)"
   ]
  },
  {
   "cell_type": "code",
   "execution_count": 23,
   "metadata": {},
   "outputs": [],
   "source": [
    "modelo=GBR(\n",
    "    n_estimators=int(best['n_estimators']),\n",
    "    learning_rate=best['learning_rate'],\n",
    "    subsample= best['x_subsample'],\n",
    "    alpha=best['x_alpha'],\n",
    "    validation_fraction=best['x_validation_fraction'],\n",
    "    )"
   ]
  },
  {
   "cell_type": "code",
   "execution_count": 24,
   "metadata": {},
   "outputs": [
    {
     "name": "stdout",
     "output_type": "stream",
     "text": [
      "Mean square error 6.9094826855907066\n"
     ]
    }
   ],
   "source": [
    "modelo.fit(X_train, y_train)\n",
    "y_pred=modelo.predict(X_test)\n",
    "print('Mean square error',mse(y_test, y_pred))"
   ]
  },
  {
   "cell_type": "code",
   "execution_count": 25,
   "metadata": {},
   "outputs": [
    {
     "name": "stdout",
     "output_type": "stream",
     "text": [
      "train R2: 0.9990406566771556 -- test R2: 0.991216330707088\n"
     ]
    }
   ],
   "source": [
    "train_score=modelo.score(X_train, y_train) #R2\n",
    "test_score=modelo.score(X_test, y_test)\n",
    "\n",
    "print ('train R2:',train_score, '-- test R2:', test_score)"
   ]
  },
  {
   "cell_type": "code",
   "execution_count": 26,
   "metadata": {},
   "outputs": [],
   "source": [
    "pred=df_merged.drop('Stocks_price_usd', axis=1)"
   ]
  },
  {
   "cell_type": "code",
   "execution_count": 27,
   "metadata": {},
   "outputs": [
    {
     "data": {
      "text/html": [
       "<div>\n",
       "<style scoped>\n",
       "    .dataframe tbody tr th:only-of-type {\n",
       "        vertical-align: middle;\n",
       "    }\n",
       "\n",
       "    .dataframe tbody tr th {\n",
       "        vertical-align: top;\n",
       "    }\n",
       "\n",
       "    .dataframe thead th {\n",
       "        text-align: right;\n",
       "    }\n",
       "</style>\n",
       "<table border=\"1\" class=\"dataframe\">\n",
       "  <thead>\n",
       "    <tr style=\"text-align: right;\">\n",
       "      <th></th>\n",
       "      <th>Crude_oil_price_usd</th>\n",
       "      <th>Refiners_Cost_usd</th>\n",
       "      <th>usd</th>\n",
       "      <th>Pandemics</th>\n",
       "      <th>Month</th>\n",
       "      <th>Year</th>\n",
       "    </tr>\n",
       "  </thead>\n",
       "  <tbody>\n",
       "    <tr>\n",
       "      <th>0</th>\n",
       "      <td>22.93</td>\n",
       "      <td>25.63</td>\n",
       "      <td>121.91</td>\n",
       "      <td>0.0</td>\n",
       "      <td>1</td>\n",
       "      <td>1986</td>\n",
       "    </tr>\n",
       "    <tr>\n",
       "      <th>1</th>\n",
       "      <td>15.46</td>\n",
       "      <td>19.76</td>\n",
       "      <td>115.15</td>\n",
       "      <td>0.0</td>\n",
       "      <td>2</td>\n",
       "      <td>1986</td>\n",
       "    </tr>\n",
       "    <tr>\n",
       "      <th>2</th>\n",
       "      <td>12.61</td>\n",
       "      <td>14.80</td>\n",
       "      <td>118.08</td>\n",
       "      <td>0.0</td>\n",
       "      <td>3</td>\n",
       "      <td>1986</td>\n",
       "    </tr>\n",
       "    <tr>\n",
       "      <th>3</th>\n",
       "      <td>12.84</td>\n",
       "      <td>13.05</td>\n",
       "      <td>112.62</td>\n",
       "      <td>0.0</td>\n",
       "      <td>4</td>\n",
       "      <td>1986</td>\n",
       "    </tr>\n",
       "    <tr>\n",
       "      <th>4</th>\n",
       "      <td>15.38</td>\n",
       "      <td>13.05</td>\n",
       "      <td>117.65</td>\n",
       "      <td>0.0</td>\n",
       "      <td>5</td>\n",
       "      <td>1986</td>\n",
       "    </tr>\n",
       "  </tbody>\n",
       "</table>\n",
       "</div>"
      ],
      "text/plain": [
       "   Crude_oil_price_usd  Refiners_Cost_usd     usd  Pandemics  Month  Year\n",
       "0                22.93              25.63  121.91        0.0      1  1986\n",
       "1                15.46              19.76  115.15        0.0      2  1986\n",
       "2                12.61              14.80  118.08        0.0      3  1986\n",
       "3                12.84              13.05  112.62        0.0      4  1986\n",
       "4                15.38              13.05  117.65        0.0      5  1986"
      ]
     },
     "execution_count": 27,
     "metadata": {},
     "output_type": "execute_result"
    }
   ],
   "source": [
    "pred.head()"
   ]
  },
  {
   "cell_type": "code",
   "execution_count": 28,
   "metadata": {},
   "outputs": [],
   "source": [
    "res=modelo.predict(pred)\n"
   ]
  },
  {
   "cell_type": "code",
   "execution_count": 29,
   "metadata": {},
   "outputs": [],
   "source": [
    "dffinal.drop(['Refiners_Cost_usd','usd','Stocks_price_usd','Pandemics'],axis=1,inplace=True)"
   ]
  },
  {
   "cell_type": "code",
   "execution_count": 30,
   "metadata": {},
   "outputs": [],
   "source": [
    "dffinal.rename(columns={'Crude_oil_price_usd': 'Real'}, inplace=True)"
   ]
  },
  {
   "cell_type": "code",
   "execution_count": 31,
   "metadata": {},
   "outputs": [],
   "source": [
    "dffinal['Predicitions']=res"
   ]
  },
  {
   "cell_type": "code",
   "execution_count": 32,
   "metadata": {},
   "outputs": [],
   "source": [
    "dffinal['Difference']=dffinal.Predicitions-dffinal.Real"
   ]
  },
  {
   "cell_type": "code",
   "execution_count": 33,
   "metadata": {},
   "outputs": [
    {
     "data": {
      "text/html": [
       "<div>\n",
       "<style scoped>\n",
       "    .dataframe tbody tr th:only-of-type {\n",
       "        vertical-align: middle;\n",
       "    }\n",
       "\n",
       "    .dataframe tbody tr th {\n",
       "        vertical-align: top;\n",
       "    }\n",
       "\n",
       "    .dataframe thead th {\n",
       "        text-align: right;\n",
       "    }\n",
       "</style>\n",
       "<table border=\"1\" class=\"dataframe\">\n",
       "  <thead>\n",
       "    <tr style=\"text-align: right;\">\n",
       "      <th></th>\n",
       "      <th>Real</th>\n",
       "      <th>Predicitions</th>\n",
       "      <th>Difference</th>\n",
       "    </tr>\n",
       "    <tr>\n",
       "      <th>Date</th>\n",
       "      <th></th>\n",
       "      <th></th>\n",
       "      <th></th>\n",
       "    </tr>\n",
       "  </thead>\n",
       "  <tbody>\n",
       "    <tr>\n",
       "      <th>1986-01-01</th>\n",
       "      <td>22.93</td>\n",
       "      <td>19.741763</td>\n",
       "      <td>-3.188237</td>\n",
       "    </tr>\n",
       "    <tr>\n",
       "      <th>1986-02-01</th>\n",
       "      <td>15.46</td>\n",
       "      <td>13.825117</td>\n",
       "      <td>-1.634883</td>\n",
       "    </tr>\n",
       "    <tr>\n",
       "      <th>1986-03-01</th>\n",
       "      <td>12.61</td>\n",
       "      <td>11.040274</td>\n",
       "      <td>-1.569726</td>\n",
       "    </tr>\n",
       "    <tr>\n",
       "      <th>1986-04-01</th>\n",
       "      <td>12.84</td>\n",
       "      <td>12.561780</td>\n",
       "      <td>-0.278220</td>\n",
       "    </tr>\n",
       "    <tr>\n",
       "      <th>1986-05-01</th>\n",
       "      <td>15.38</td>\n",
       "      <td>14.696641</td>\n",
       "      <td>-0.683359</td>\n",
       "    </tr>\n",
       "  </tbody>\n",
       "</table>\n",
       "</div>"
      ],
      "text/plain": [
       "             Real  Predicitions  Difference\n",
       "Date                                       \n",
       "1986-01-01  22.93     19.741763   -3.188237\n",
       "1986-02-01  15.46     13.825117   -1.634883\n",
       "1986-03-01  12.61     11.040274   -1.569726\n",
       "1986-04-01  12.84     12.561780   -0.278220\n",
       "1986-05-01  15.38     14.696641   -0.683359"
      ]
     },
     "execution_count": 33,
     "metadata": {},
     "output_type": "execute_result"
    }
   ],
   "source": [
    "dffinal.head()"
   ]
  },
  {
   "cell_type": "code",
   "execution_count": 34,
   "metadata": {},
   "outputs": [],
   "source": [
    "dfc=[dffinal,df_arch]"
   ]
  },
  {
   "cell_type": "code",
   "execution_count": 35,
   "metadata": {},
   "outputs": [],
   "source": [
    "df_tab= reduce(lambda  left,right: pd.merge(left,right,on=['Date'],\n",
    "                                            how='outer'), dfc)"
   ]
  },
  {
   "cell_type": "code",
   "execution_count": 36,
   "metadata": {},
   "outputs": [],
   "source": [
    "df_tab.to_csv('Oil predictions.csv')"
   ]
  },
  {
   "cell_type": "code",
   "execution_count": 37,
   "metadata": {},
   "outputs": [
    {
     "data": {
      "text/plain": [
       "(192.0, 602.0)"
      ]
     },
     "execution_count": 37,
     "metadata": {},
     "output_type": "execute_result"
    },
    {
     "data": {
      "image/png": "[encoded data removed]",
      "text/plain": [
       "<Figure size 432x288 with 1 Axes>"
      ]
     },
     "metadata": {
      "needs_background": "light"
     },
     "output_type": "display_data"
    }
   ],
   "source": [
    "df=dffinal[['Real','Predicitions']]\n",
    "subplot = df.plot()\n",
    "subplot.set_xlim()"
   ]
  },
  {
   "cell_type": "code",
   "execution_count": 38,
   "metadata": {},
   "outputs": [
    {
     "data": {
      "image/png": "[encoded data removed]",
      "text/plain": [
       "<Figure size 432x288 with 1 Axes>"
      ]
     },
     "metadata": {
      "needs_background": "light"
     },
     "output_type": "display_data"
    }
   ],
   "source": [
    "data = df_arch\n",
    "market = df_arch['Crude_oil_price_usd']\n",
    "returns = 100 * market.pct_change().dropna()\n",
    "ax = returns.plot()\n",
    "xlim = ax.set_xlim(returns.index.min(), returns.index.max())"
   ]
  },
  {
   "cell_type": "code",
   "execution_count": 39,
   "metadata": {},
   "outputs": [
    {
     "name": "stdout",
     "output_type": "stream",
     "text": [
      "Iteration:      5,   Func. Count:     35,   Neg. LLF: 1447.043491486425\n",
      "Iteration:     10,   Func. Count:     65,   Neg. LLF: 1446.6992919007416\n",
      "Optimization terminated successfully.    (Exit mode 0)\n",
      "            Current function value: 1446.6992689430015\n",
      "            Iterations: 11\n",
      "            Function evaluations: 72\n",
      "            Gradient evaluations: 11\n",
      "                      Constant Mean - GARCH Model Results                      \n",
      "===============================================================================\n",
      "Dep. Variable:     Crude_oil_price_usd   R-squared:                      -0.002\n",
      "Mean Model:              Constant Mean   Adj. R-squared:                 -0.002\n",
      "Vol Model:                       GARCH   Log-Likelihood:               -1446.70\n",
      "Distribution:                   Normal   AIC:                           2901.40\n",
      "Method:             Maximum Likelihood   BIC:                           2917.46\n",
      "                                         No. Observations:                  410\n",
      "Date:                 Wed, May 20 2020   Df Residuals:                      406\n",
      "Time:                         03:27:01   Df Model:                            4\n",
      "                                Mean Model                                \n",
      "==========================================================================\n",
      "                 coef    std err          t      P>|t|    95.0% Conf. Int.\n",
      "--------------------------------------------------------------------------\n",
      "mu             0.8630      0.398      2.167  3.022e-02 [8.251e-02,  1.643]\n",
      "                             Volatility Model                             \n",
      "==========================================================================\n",
      "                 coef    std err          t      P>|t|    95.0% Conf. Int.\n",
      "--------------------------------------------------------------------------\n",
      "omega         17.8179      6.919      2.575  1.002e-02   [  4.257, 31.379]\n",
      "alpha[1]       0.3029      0.144      2.096  3.604e-02 [1.972e-02,  0.586]\n",
      "beta[1]        0.4893      0.150      3.262  1.106e-03   [  0.195,  0.783]\n",
      "==========================================================================\n",
      "\n",
      "Covariance estimator: robust\n"
     ]
    }
   ],
   "source": [
    "am = arch_model(returns)\n",
    "res = am.fit(update_freq=5)\n",
    "print(res.summary())"
   ]
  },
  {
   "cell_type": "code",
   "execution_count": 40,
   "metadata": {},
   "outputs": [
    {
     "data": {
      "image/png": "[encoded data removed]",
      "text/plain": [
       "<Figure size 432x288 with 2 Axes>"
      ]
     },
     "metadata": {
      "needs_background": "light"
     },
     "output_type": "display_data"
    }
   ],
   "source": [
    "fig = res.plot(annualize='D')"
   ]
  },
  {
   "cell_type": "code",
   "execution_count": 41,
   "metadata": {
    "scrolled": true
   },
   "outputs": [
    {
     "name": "stdout",
     "output_type": "stream",
     "text": [
      "                    Constant Mean - GJR-GARCH Model Results                    \n",
      "===============================================================================\n",
      "Dep. Variable:     Crude_oil_price_usd   R-squared:                      -0.000\n",
      "Mean Model:              Constant Mean   Adj. R-squared:                 -0.000\n",
      "Vol Model:                   GJR-GARCH   Log-Likelihood:               -1442.08\n",
      "Distribution:                   Normal   AIC:                           2894.15\n",
      "Method:             Maximum Likelihood   BIC:                           2914.23\n",
      "                                         No. Observations:                  410\n",
      "Date:                 Wed, May 20 2020   Df Residuals:                      405\n",
      "Time:                         03:27:02   Df Model:                            5\n",
      "                               Mean Model                               \n",
      "========================================================================\n",
      "                 coef    std err          t      P>|t|  95.0% Conf. Int.\n",
      "------------------------------------------------------------------------\n",
      "mu             0.6547      0.391      1.673  9.438e-02 [ -0.112,  1.422]\n",
      "                              Volatility Model                             \n",
      "===========================================================================\n",
      "                 coef    std err          t      P>|t|     95.0% Conf. Int.\n",
      "---------------------------------------------------------------------------\n",
      "omega         15.2052      4.587      3.315  9.163e-04    [  6.215, 24.195]\n",
      "alpha[1]       0.0774  4.299e-02      1.800  7.182e-02 [-6.866e-03,  0.162]\n",
      "gamma[1]       0.3401      0.161      2.109  3.497e-02  [2.399e-02,  0.656]\n",
      "beta[1]        0.5676  9.607e-02      5.908  3.460e-09    [  0.379,  0.756]\n",
      "===========================================================================\n",
      "\n",
      "Covariance estimator: robust\n"
     ]
    }
   ],
   "source": [
    "am = arch_model(returns, p=1, o=1, q=1)\n",
    "res = am.fit(update_freq=5, disp='off')\n",
    "print(res.summary())"
   ]
  },
  {
   "cell_type": "code",
   "execution_count": 42,
   "metadata": {},
   "outputs": [
    {
     "data": {
      "image/png": "[encoded data removed]",
      "text/plain": [
       "<Figure size 432x288 with 2 Axes>"
      ]
     },
     "metadata": {
      "needs_background": "light"
     },
     "output_type": "display_data"
    }
   ],
   "source": [
    "fig = res.plot(annualize='D')"
   ]
  },
  {
   "cell_type": "code",
   "execution_count": 43,
   "metadata": {},
   "outputs": [
    {
     "name": "stdout",
     "output_type": "stream",
     "text": [
      "Iteration:      5,   Func. Count:     42,   Neg. LLF: 1445.0589257136326\n",
      "Iteration:     10,   Func. Count:     81,   Neg. LLF: 1443.8057764950754\n",
      "Optimization terminated successfully.    (Exit mode 0)\n",
      "            Current function value: 1443.7973156515586\n",
      "            Iterations: 13\n",
      "            Function evaluations: 102\n",
      "            Gradient evaluations: 13\n",
      "                   Constant Mean - TARCH/ZARCH Model Results                   \n",
      "===============================================================================\n",
      "Dep. Variable:     Crude_oil_price_usd   R-squared:                      -0.000\n",
      "Mean Model:              Constant Mean   Adj. R-squared:                 -0.000\n",
      "Vol Model:                 TARCH/ZARCH   Log-Likelihood:               -1443.80\n",
      "Distribution:                   Normal   AIC:                           2897.59\n",
      "Method:             Maximum Likelihood   BIC:                           2917.68\n",
      "                                         No. Observations:                  410\n",
      "Date:                 Wed, May 20 2020   Df Residuals:                      405\n",
      "Time:                         03:27:02   Df Model:                            5\n",
      "                               Mean Model                               \n",
      "========================================================================\n",
      "                 coef    std err          t      P>|t|  95.0% Conf. Int.\n",
      "------------------------------------------------------------------------\n",
      "mu             0.5915      0.413      1.432      0.152 [ -0.218,  1.401]\n",
      "                             Volatility Model                             \n",
      "==========================================================================\n",
      "                 coef    std err          t      P>|t|    95.0% Conf. Int.\n",
      "--------------------------------------------------------------------------\n",
      "omega          1.6027      0.488      3.283  1.026e-03   [  0.646,  2.559]\n",
      "alpha[1]       0.1043  4.392e-02      2.374  1.762e-02 [1.817e-02,  0.190]\n",
      "gamma[1]       0.1943  7.413e-02      2.621  8.766e-03 [4.901e-02,  0.340]\n",
      "beta[1]        0.6547  7.203e-02      9.089  9.963e-20   [  0.514,  0.796]\n",
      "==========================================================================\n",
      "\n",
      "Covariance estimator: robust\n"
     ]
    }
   ],
   "source": [
    "am = arch_model(returns, p=1, o=1, q=1, power=1.0)\n",
    "res = am.fit(update_freq=5)\n",
    "print(res.summary())"
   ]
  },
  {
   "cell_type": "code",
   "execution_count": 44,
   "metadata": {},
   "outputs": [
    {
     "data": {
      "image/png": "[encoded data removed]",
      "text/plain": [
       "<Figure size 432x288 with 2 Axes>"
      ]
     },
     "metadata": {
      "needs_background": "light"
     },
     "output_type": "display_data"
    }
   ],
   "source": [
    "fig = res.plot(annualize='D')"
   ]
  },
  {
   "cell_type": "code",
   "execution_count": 45,
   "metadata": {},
   "outputs": [
    {
     "name": "stdout",
     "output_type": "stream",
     "text": [
      "Iteration:      5,   Func. Count:     46,   Neg. LLF: 1437.7819471778112\n",
      "Iteration:     10,   Func. Count:     90,   Neg. LLF: 1436.631296268387\n",
      "Iteration:     15,   Func. Count:    131,   Neg. LLF: 1436.5049760898876\n",
      "Optimization terminated successfully.    (Exit mode 0)\n",
      "            Current function value: 1436.5049697793474\n",
      "            Iterations: 16\n",
      "            Function evaluations: 139\n",
      "            Gradient evaluations: 16\n",
      "                     Constant Mean - TARCH/ZARCH Model Results                      \n",
      "====================================================================================\n",
      "Dep. Variable:          Crude_oil_price_usd   R-squared:                      -0.000\n",
      "Mean Model:                   Constant Mean   Adj. R-squared:                 -0.000\n",
      "Vol Model:                      TARCH/ZARCH   Log-Likelihood:               -1436.50\n",
      "Distribution:      Standardized Student's t   AIC:                           2885.01\n",
      "Method:                  Maximum Likelihood   BIC:                           2909.11\n",
      "                                              No. Observations:                  410\n",
      "Date:                      Wed, May 20 2020   Df Residuals:                      404\n",
      "Time:                              03:27:02   Df Model:                            6\n",
      "                               Mean Model                               \n",
      "========================================================================\n",
      "                 coef    std err          t      P>|t|  95.0% Conf. Int.\n",
      "------------------------------------------------------------------------\n",
      "mu             0.6230      0.394      1.582      0.114 [ -0.149,  1.395]\n",
      "                             Volatility Model                             \n",
      "==========================================================================\n",
      "                 coef    std err          t      P>|t|    95.0% Conf. Int.\n",
      "--------------------------------------------------------------------------\n",
      "omega          1.4772      0.521      2.837  4.561e-03   [  0.457,  2.498]\n",
      "alpha[1]       0.1094  4.016e-02      2.724  6.455e-03 [3.068e-02,  0.188]\n",
      "gamma[1]       0.1475  6.216e-02      2.372  1.768e-02 [2.563e-02,  0.269]\n",
      "beta[1]        0.6801  7.671e-02      8.866  7.580e-19   [  0.530,  0.830]\n",
      "                              Distribution                              \n",
      "========================================================================\n",
      "                 coef    std err          t      P>|t|  95.0% Conf. Int.\n",
      "------------------------------------------------------------------------\n",
      "nu             9.3339      3.941      2.368  1.786e-02 [  1.610, 17.058]\n",
      "========================================================================\n",
      "\n",
      "Covariance estimator: robust\n"
     ]
    }
   ],
   "source": [
    "am = arch_model(returns, p=1, o=1, q=1, power=1.0, dist='StudentsT')\n",
    "res = am.fit(update_freq=5)\n",
    "print(res.summary())"
   ]
  },
  {
   "cell_type": "code",
   "execution_count": 46,
   "metadata": {},
   "outputs": [
    {
     "data": {
      "image/png": "[encoded data removed]",
      "text/plain": [
       "<Figure size 432x288 with 2 Axes>"
      ]
     },
     "metadata": {
      "needs_background": "light"
     },
     "output_type": "display_data"
    }
   ],
   "source": [
    "fig = res.plot(annualize='D')"
   ]
  },
  {
   "cell_type": "code",
   "execution_count": 47,
   "metadata": {},
   "outputs": [
    {
     "name": "stdout",
     "output_type": "stream",
     "text": [
      "                      Constant Mean - TARCH/ZARCH Model Results                      \n",
      "=====================================================================================\n",
      "Dep. Variable:           Crude_oil_price_usd   R-squared:                          --\n",
      "Mean Model:                    Constant Mean   Adj. R-squared:                     --\n",
      "Vol Model:                       TARCH/ZARCH   Log-Likelihood:               -1478.62\n",
      "Distribution:       Standardized Student's t   AIC:                           2969.23\n",
      "Method:            User-specified Parameters   BIC:                           2993.33\n",
      "                                               No. Observations:                  410\n",
      "Date:                       Wed, May 20 2020                                         \n",
      "Time:                               03:27:03                                         \n",
      "      Mean Model     \n",
      "=====================\n",
      "                 coef\n",
      "---------------------\n",
      "mu             0.0235\n",
      "   Volatility Model  \n",
      "=====================\n",
      "                 coef\n",
      "---------------------\n",
      "omega          0.0100\n",
      "alpha[1]       0.0600\n",
      "gamma[1]       0.0000\n",
      "beta[1]        0.9382\n",
      "     Distribution    \n",
      "=====================\n",
      "                 coef\n",
      "---------------------\n",
      "nu             8.0000\n",
      "=====================\n",
      "\n",
      "Results generated with user-specified parameters.\n",
      "Std. errors not available when the model is not estimated, \n"
     ]
    }
   ],
   "source": [
    "fixed_res = am.fix([0.0235, 0.01, 0.06, 0.0, 0.9382, 8.0])\n",
    "print(fixed_res.summary())"
   ]
  },
  {
   "cell_type": "code",
   "execution_count": 48,
   "metadata": {},
   "outputs": [
    {
     "data": {
      "text/plain": [
       "(193.0, 602.0)"
      ]
     },
     "execution_count": 48,
     "metadata": {},
     "output_type": "execute_result"
    },
    {
     "data": {
      "image/png": "[encoded data removed]",
      "text/plain": [
       "<Figure size 432x288 with 1 Axes>"
      ]
     },
     "metadata": {
      "needs_background": "light"
     },
     "output_type": "display_data"
    }
   ],
   "source": [
    "df = pd.concat([res.conditional_volatility, fixed_res.conditional_volatility],\n",
    "               1)\n",
    "df.columns = ['Estimated', 'Fixed']\n",
    "subplot = df.plot()\n",
    "subplot.set_xlim(xlim)"
   ]
  },
  {
   "cell_type": "code",
   "execution_count": 49,
   "metadata": {},
   "outputs": [],
   "source": [
    "data=data.Stocks_price_usd"
   ]
  },
  {
   "cell_type": "code",
   "execution_count": 50,
   "metadata": {},
   "outputs": [
    {
     "data": {
      "text/html": [
       "<div>\n",
       "<style scoped>\n",
       "    .dataframe tbody tr th:only-of-type {\n",
       "        vertical-align: middle;\n",
       "    }\n",
       "\n",
       "    .dataframe tbody tr th {\n",
       "        vertical-align: top;\n",
       "    }\n",
       "\n",
       "    .dataframe thead th {\n",
       "        text-align: right;\n",
       "    }\n",
       "</style>\n",
       "<table border=\"1\" class=\"dataframe\">\n",
       "  <thead>\n",
       "    <tr style=\"text-align: right;\">\n",
       "      <th></th>\n",
       "      <th>params</th>\n",
       "    </tr>\n",
       "  </thead>\n",
       "  <tbody>\n",
       "    <tr>\n",
       "      <th>mu</th>\n",
       "      <td>17.385631</td>\n",
       "    </tr>\n",
       "    <tr>\n",
       "      <th>omega</th>\n",
       "      <td>5.541651</td>\n",
       "    </tr>\n",
       "    <tr>\n",
       "      <th>alpha[1]</th>\n",
       "      <td>1.000000</td>\n",
       "    </tr>\n",
       "    <tr>\n",
       "      <th>gamma[1]</th>\n",
       "      <td>-0.974196</td>\n",
       "    </tr>\n",
       "    <tr>\n",
       "      <th>beta[1]</th>\n",
       "      <td>0.437216</td>\n",
       "    </tr>\n",
       "    <tr>\n",
       "      <th>nu</th>\n",
       "      <td>3.539332</td>\n",
       "    </tr>\n",
       "    <tr>\n",
       "      <th>lambda</th>\n",
       "      <td>-0.817420</td>\n",
       "    </tr>\n",
       "  </tbody>\n",
       "</table>\n",
       "</div>"
      ],
      "text/plain": [
       "             params\n",
       "mu        17.385631\n",
       "omega      5.541651\n",
       "alpha[1]   1.000000\n",
       "gamma[1]  -0.974196\n",
       "beta[1]    0.437216\n",
       "nu         3.539332\n",
       "lambda    -0.817420"
      ]
     },
     "execution_count": 50,
     "metadata": {},
     "output_type": "execute_result"
    }
   ],
   "source": [
    "res = arch_model(data, p=1, o=1, q=1, dist='skewt').fit(disp='off')\n",
    "pd.DataFrame(res.params)"
   ]
  },
  {
   "cell_type": "code",
   "execution_count": 51,
   "metadata": {},
   "outputs": [
    {
     "data": {
      "text/html": [
       "<div>\n",
       "<style scoped>\n",
       "    .dataframe tbody tr th:only-of-type {\n",
       "        vertical-align: middle;\n",
       "    }\n",
       "\n",
       "    .dataframe tbody tr th {\n",
       "        vertical-align: top;\n",
       "    }\n",
       "\n",
       "    .dataframe thead th {\n",
       "        text-align: right;\n",
       "    }\n",
       "</style>\n",
       "<table border=\"1\" class=\"dataframe\">\n",
       "  <thead>\n",
       "    <tr style=\"text-align: right;\">\n",
       "      <th></th>\n",
       "      <th>data</th>\n",
       "      <th>volatility</th>\n",
       "      <th>errors</th>\n",
       "    </tr>\n",
       "  </thead>\n",
       "  <tbody>\n",
       "    <tr>\n",
       "      <th>0</th>\n",
       "      <td>20.065194</td>\n",
       "      <td>3.903377</td>\n",
       "      <td>2.679563</td>\n",
       "    </tr>\n",
       "    <tr>\n",
       "      <th>1</th>\n",
       "      <td>9.941495</td>\n",
       "      <td>4.402645</td>\n",
       "      <td>-7.444136</td>\n",
       "    </tr>\n",
       "    <tr>\n",
       "      <th>2</th>\n",
       "      <td>10.600995</td>\n",
       "      <td>3.930174</td>\n",
       "      <td>-6.784637</td>\n",
       "    </tr>\n",
       "    <tr>\n",
       "      <th>3</th>\n",
       "      <td>19.078382</td>\n",
       "      <td>3.671893</td>\n",
       "      <td>1.692751</td>\n",
       "    </tr>\n",
       "    <tr>\n",
       "      <th>4</th>\n",
       "      <td>18.522322</td>\n",
       "      <td>3.781792</td>\n",
       "      <td>1.136690</td>\n",
       "    </tr>\n",
       "  </tbody>\n",
       "</table>\n",
       "</div>"
      ],
      "text/plain": [
       "        data  volatility    errors\n",
       "0  20.065194    3.903377  2.679563\n",
       "1   9.941495    4.402645 -7.444136\n",
       "2  10.600995    3.930174 -6.784637\n",
       "3  19.078382    3.671893  1.692751\n",
       "4  18.522322    3.781792  1.136690"
      ]
     },
     "execution_count": 51,
     "metadata": {},
     "output_type": "execute_result"
    }
   ],
   "source": [
    "sim_mod = arch_model(None, p=1, o=1, q=1, dist=\"skewt\")\n",
    "\n",
    "sim_data = sim_mod.simulate(res.params, 1000)\n",
    "sim_data.head()"
   ]
  },
  {
   "cell_type": "code",
   "execution_count": 52,
   "metadata": {},
   "outputs": [
    {
     "data": {
      "text/html": [
       "<div>\n",
       "<style scoped>\n",
       "    .dataframe tbody tr th:only-of-type {\n",
       "        vertical-align: middle;\n",
       "    }\n",
       "\n",
       "    .dataframe tbody tr th {\n",
       "        vertical-align: top;\n",
       "    }\n",
       "\n",
       "    .dataframe thead th {\n",
       "        text-align: right;\n",
       "    }\n",
       "</style>\n",
       "<table border=\"1\" class=\"dataframe\">\n",
       "  <thead>\n",
       "    <tr style=\"text-align: right;\">\n",
       "      <th></th>\n",
       "      <th>data</th>\n",
       "      <th>volatility</th>\n",
       "      <th>errors</th>\n",
       "    </tr>\n",
       "  </thead>\n",
       "  <tbody>\n",
       "    <tr>\n",
       "      <th>count</th>\n",
       "      <td>1000.000000</td>\n",
       "      <td>1000.000000</td>\n",
       "      <td>1000.000000</td>\n",
       "    </tr>\n",
       "    <tr>\n",
       "      <th>mean</th>\n",
       "      <td>17.456112</td>\n",
       "      <td>4.102052</td>\n",
       "      <td>0.070480</td>\n",
       "    </tr>\n",
       "    <tr>\n",
       "      <th>std</th>\n",
       "      <td>3.925752</td>\n",
       "      <td>1.000533</td>\n",
       "      <td>3.925752</td>\n",
       "    </tr>\n",
       "    <tr>\n",
       "      <th>min</th>\n",
       "      <td>-31.958329</td>\n",
       "      <td>3.150685</td>\n",
       "      <td>-49.343961</td>\n",
       "    </tr>\n",
       "    <tr>\n",
       "      <th>25%</th>\n",
       "      <td>16.065974</td>\n",
       "      <td>3.470413</td>\n",
       "      <td>-1.319658</td>\n",
       "    </tr>\n",
       "    <tr>\n",
       "      <th>50%</th>\n",
       "      <td>18.308524</td>\n",
       "      <td>3.834270</td>\n",
       "      <td>0.922893</td>\n",
       "    </tr>\n",
       "    <tr>\n",
       "      <th>75%</th>\n",
       "      <td>19.861873</td>\n",
       "      <td>4.454908</td>\n",
       "      <td>2.476241</td>\n",
       "    </tr>\n",
       "    <tr>\n",
       "      <th>max</th>\n",
       "      <td>28.325104</td>\n",
       "      <td>14.146418</td>\n",
       "      <td>10.939473</td>\n",
       "    </tr>\n",
       "  </tbody>\n",
       "</table>\n",
       "</div>"
      ],
      "text/plain": [
       "              data   volatility       errors\n",
       "count  1000.000000  1000.000000  1000.000000\n",
       "mean     17.456112     4.102052     0.070480\n",
       "std       3.925752     1.000533     3.925752\n",
       "min     -31.958329     3.150685   -49.343961\n",
       "25%      16.065974     3.470413    -1.319658\n",
       "50%      18.308524     3.834270     0.922893\n",
       "75%      19.861873     4.454908     2.476241\n",
       "max      28.325104    14.146418    10.939473"
      ]
     },
     "execution_count": 52,
     "metadata": {},
     "output_type": "execute_result"
    }
   ],
   "source": [
    "sim_data.describe()"
   ]
  },
  {
   "cell_type": "code",
   "execution_count": 53,
   "metadata": {},
   "outputs": [
    {
     "data": {
      "text/html": [
       "<div>\n",
       "<style scoped>\n",
       "    .dataframe tbody tr th:only-of-type {\n",
       "        vertical-align: middle;\n",
       "    }\n",
       "\n",
       "    .dataframe tbody tr th {\n",
       "        vertical-align: top;\n",
       "    }\n",
       "\n",
       "    .dataframe thead th {\n",
       "        text-align: right;\n",
       "    }\n",
       "</style>\n",
       "<table border=\"1\" class=\"dataframe\">\n",
       "  <thead>\n",
       "    <tr style=\"text-align: right;\">\n",
       "      <th></th>\n",
       "      <th>Real</th>\n",
       "      <th>Predicitions</th>\n",
       "      <th>Difference</th>\n",
       "    </tr>\n",
       "  </thead>\n",
       "  <tbody>\n",
       "    <tr>\n",
       "      <th>count</th>\n",
       "      <td>411.000000</td>\n",
       "      <td>411.000000</td>\n",
       "      <td>411.000000</td>\n",
       "    </tr>\n",
       "    <tr>\n",
       "      <th>mean</th>\n",
       "      <td>44.189270</td>\n",
       "      <td>44.290160</td>\n",
       "      <td>0.100890</td>\n",
       "    </tr>\n",
       "    <tr>\n",
       "      <th>std</th>\n",
       "      <td>29.059914</td>\n",
       "      <td>29.198397</td>\n",
       "      <td>1.734189</td>\n",
       "    </tr>\n",
       "    <tr>\n",
       "      <th>min</th>\n",
       "      <td>11.350000</td>\n",
       "      <td>11.040274</td>\n",
       "      <td>-8.676249</td>\n",
       "    </tr>\n",
       "    <tr>\n",
       "      <th>25%</th>\n",
       "      <td>19.760000</td>\n",
       "      <td>19.773863</td>\n",
       "      <td>-0.422362</td>\n",
       "    </tr>\n",
       "    <tr>\n",
       "      <th>50%</th>\n",
       "      <td>31.260000</td>\n",
       "      <td>32.610319</td>\n",
       "      <td>0.037135</td>\n",
       "    </tr>\n",
       "    <tr>\n",
       "      <th>75%</th>\n",
       "      <td>63.095000</td>\n",
       "      <td>64.406012</td>\n",
       "      <td>0.686797</td>\n",
       "    </tr>\n",
       "    <tr>\n",
       "      <th>max</th>\n",
       "      <td>133.880000</td>\n",
       "      <td>139.100295</td>\n",
       "      <td>6.709638</td>\n",
       "    </tr>\n",
       "  </tbody>\n",
       "</table>\n",
       "</div>"
      ],
      "text/plain": [
       "             Real  Predicitions  Difference\n",
       "count  411.000000    411.000000  411.000000\n",
       "mean    44.189270     44.290160    0.100890\n",
       "std     29.059914     29.198397    1.734189\n",
       "min     11.350000     11.040274   -8.676249\n",
       "25%     19.760000     19.773863   -0.422362\n",
       "50%     31.260000     32.610319    0.037135\n",
       "75%     63.095000     64.406012    0.686797\n",
       "max    133.880000    139.100295    6.709638"
      ]
     },
     "execution_count": 53,
     "metadata": {},
     "output_type": "execute_result"
    }
   ],
   "source": [
    "dffinal.describe()"
   ]
  },
  {
   "cell_type": "code",
   "execution_count": 54,
   "metadata": {},
   "outputs": [
    {
     "name": "stdout",
     "output_type": "stream",
     "text": [
      "<class 'pandas.core.frame.DataFrame'>\n",
      "DatetimeIndex: 411 entries, 1986-01-01 to 2020-03-01\n",
      "Data columns (total 5 columns):\n",
      " #   Column               Non-Null Count  Dtype  \n",
      "---  ------               --------------  -----  \n",
      " 0   Crude_oil_price_usd  411 non-null    float64\n",
      " 1   Refiners_Cost_usd    411 non-null    float64\n",
      " 2   usd                  411 non-null    float64\n",
      " 3   Stocks_price_usd     411 non-null    float64\n",
      " 4   Pandemics            411 non-null    float64\n",
      "dtypes: float64(5)\n",
      "memory usage: 19.3 KB\n"
     ]
    }
   ],
   "source": [
    "df_arch.info()"
   ]
  },
  {
   "cell_type": "code",
   "execution_count": 55,
   "metadata": {},
   "outputs": [],
   "source": [
    "df_arch.drop(df_arch.index[:200],inplace=True)"
   ]
  },
  {
   "cell_type": "code",
   "execution_count": 56,
   "metadata": {},
   "outputs": [
    {
     "data": {
      "text/html": [
       "<div>\n",
       "<style scoped>\n",
       "    .dataframe tbody tr th:only-of-type {\n",
       "        vertical-align: middle;\n",
       "    }\n",
       "\n",
       "    .dataframe tbody tr th {\n",
       "        vertical-align: top;\n",
       "    }\n",
       "\n",
       "    .dataframe thead th {\n",
       "        text-align: right;\n",
       "    }\n",
       "</style>\n",
       "<table border=\"1\" class=\"dataframe\">\n",
       "  <thead>\n",
       "    <tr style=\"text-align: right;\">\n",
       "      <th></th>\n",
       "      <th>Crude_oil_price_usd</th>\n",
       "      <th>Refiners_Cost_usd</th>\n",
       "      <th>usd</th>\n",
       "      <th>Stocks_price_usd</th>\n",
       "      <th>Pandemics</th>\n",
       "    </tr>\n",
       "    <tr>\n",
       "      <th>Date</th>\n",
       "      <th></th>\n",
       "      <th></th>\n",
       "      <th></th>\n",
       "      <th></th>\n",
       "      <th></th>\n",
       "    </tr>\n",
       "  </thead>\n",
       "  <tbody>\n",
       "    <tr>\n",
       "      <th>2002-09-01</th>\n",
       "      <td>29.66</td>\n",
       "      <td>27.66</td>\n",
       "      <td>107.26</td>\n",
       "      <td>30.45</td>\n",
       "      <td>0.0</td>\n",
       "    </tr>\n",
       "    <tr>\n",
       "      <th>2002-10-01</th>\n",
       "      <td>28.84</td>\n",
       "      <td>26.70</td>\n",
       "      <td>106.82</td>\n",
       "      <td>27.22</td>\n",
       "      <td>0.0</td>\n",
       "    </tr>\n",
       "    <tr>\n",
       "      <th>2002-11-01</th>\n",
       "      <td>26.35</td>\n",
       "      <td>24.60</td>\n",
       "      <td>106.50</td>\n",
       "      <td>26.89</td>\n",
       "      <td>1.0</td>\n",
       "    </tr>\n",
       "    <tr>\n",
       "      <th>2002-12-01</th>\n",
       "      <td>29.46</td>\n",
       "      <td>26.93</td>\n",
       "      <td>102.26</td>\n",
       "      <td>31.20</td>\n",
       "      <td>1.0</td>\n",
       "    </tr>\n",
       "    <tr>\n",
       "      <th>2003-01-01</th>\n",
       "      <td>32.95</td>\n",
       "      <td>30.52</td>\n",
       "      <td>100.14</td>\n",
       "      <td>33.51</td>\n",
       "      <td>1.0</td>\n",
       "    </tr>\n",
       "  </tbody>\n",
       "</table>\n",
       "</div>"
      ],
      "text/plain": [
       "            Crude_oil_price_usd  Refiners_Cost_usd     usd  Stocks_price_usd  \\\n",
       "Date                                                                           \n",
       "2002-09-01                29.66              27.66  107.26             30.45   \n",
       "2002-10-01                28.84              26.70  106.82             27.22   \n",
       "2002-11-01                26.35              24.60  106.50             26.89   \n",
       "2002-12-01                29.46              26.93  102.26             31.20   \n",
       "2003-01-01                32.95              30.52  100.14             33.51   \n",
       "\n",
       "            Pandemics  \n",
       "Date                   \n",
       "2002-09-01        0.0  \n",
       "2002-10-01        0.0  \n",
       "2002-11-01        1.0  \n",
       "2002-12-01        1.0  \n",
       "2003-01-01        1.0  "
      ]
     },
     "execution_count": 56,
     "metadata": {},
     "output_type": "execute_result"
    }
   ],
   "source": [
    "df_arch.head()"
   ]
  },
  {
   "cell_type": "code",
   "execution_count": 57,
   "metadata": {},
   "outputs": [],
   "source": [
    "def features(df, label):\n",
    "    df=df.copy()\n",
    "    df['date']=df.index\n",
    "    df['quarter']=df.date.dt.quarter\n",
    "    df['month']=df.date.dt.month\n",
    "    df['year']=df.date.dt.year\n",
    "    df['week_of_year']=df.date.dt.weekofyear\n",
    "    \n",
    "    X=df[[ 'quarter', 'month', 'year',\n",
    "           'week_of_year']]\n",
    "    y=df[label]\n",
    "    \n",
    "    return X,y"
   ]
  },
  {
   "cell_type": "code",
   "execution_count": 58,
   "metadata": {},
   "outputs": [
    {
     "data": {
      "text/html": [
       "<div>\n",
       "<style scoped>\n",
       "    .dataframe tbody tr th:only-of-type {\n",
       "        vertical-align: middle;\n",
       "    }\n",
       "\n",
       "    .dataframe tbody tr th {\n",
       "        vertical-align: top;\n",
       "    }\n",
       "\n",
       "    .dataframe thead th {\n",
       "        text-align: right;\n",
       "    }\n",
       "</style>\n",
       "<table border=\"1\" class=\"dataframe\">\n",
       "  <thead>\n",
       "    <tr style=\"text-align: right;\">\n",
       "      <th></th>\n",
       "      <th>quarter</th>\n",
       "      <th>month</th>\n",
       "      <th>year</th>\n",
       "      <th>week_of_year</th>\n",
       "      <th>Stocks_price_usd</th>\n",
       "    </tr>\n",
       "    <tr>\n",
       "      <th>Date</th>\n",
       "      <th></th>\n",
       "      <th></th>\n",
       "      <th></th>\n",
       "      <th></th>\n",
       "      <th></th>\n",
       "    </tr>\n",
       "  </thead>\n",
       "  <tbody>\n",
       "    <tr>\n",
       "      <th>2002-09-01</th>\n",
       "      <td>3</td>\n",
       "      <td>9</td>\n",
       "      <td>2002</td>\n",
       "      <td>35</td>\n",
       "      <td>30.45</td>\n",
       "    </tr>\n",
       "    <tr>\n",
       "      <th>2002-10-01</th>\n",
       "      <td>4</td>\n",
       "      <td>10</td>\n",
       "      <td>2002</td>\n",
       "      <td>40</td>\n",
       "      <td>27.22</td>\n",
       "    </tr>\n",
       "    <tr>\n",
       "      <th>2002-11-01</th>\n",
       "      <td>4</td>\n",
       "      <td>11</td>\n",
       "      <td>2002</td>\n",
       "      <td>44</td>\n",
       "      <td>26.89</td>\n",
       "    </tr>\n",
       "    <tr>\n",
       "      <th>2002-12-01</th>\n",
       "      <td>4</td>\n",
       "      <td>12</td>\n",
       "      <td>2002</td>\n",
       "      <td>48</td>\n",
       "      <td>31.20</td>\n",
       "    </tr>\n",
       "    <tr>\n",
       "      <th>2003-01-01</th>\n",
       "      <td>1</td>\n",
       "      <td>1</td>\n",
       "      <td>2003</td>\n",
       "      <td>1</td>\n",
       "      <td>33.51</td>\n",
       "    </tr>\n",
       "  </tbody>\n",
       "</table>\n",
       "</div>"
      ],
      "text/plain": [
       "            quarter  month  year  week_of_year  Stocks_price_usd\n",
       "Date                                                            \n",
       "2002-09-01        3      9  2002            35             30.45\n",
       "2002-10-01        4     10  2002            40             27.22\n",
       "2002-11-01        4     11  2002            44             26.89\n",
       "2002-12-01        4     12  2002            48             31.20\n",
       "2003-01-01        1      1  2003             1             33.51"
      ]
     },
     "execution_count": 58,
     "metadata": {},
     "output_type": "execute_result"
    }
   ],
   "source": [
    "X, y = features(df_arch, 'Stocks_price_usd')\n",
    "data=pd.concat([X, y], axis=1)\n",
    "data.head()"
   ]
  },
  {
   "cell_type": "code",
   "execution_count": 59,
   "metadata": {},
   "outputs": [
    {
     "name": "stderr",
     "output_type": "stream",
     "text": [
      "INFO:fbprophet:Disabling weekly seasonality. Run prophet with weekly_seasonality=True to override this.\n",
      "INFO:fbprophet:Disabling daily seasonality. Run prophet with daily_seasonality=True to override this.\n"
     ]
    },
    {
     "data": {
      "image/png": "[encoded data removed]",
      "text/plain": [
       "<Figure size 1080x360 with 1 Axes>"
      ]
     },
     "metadata": {
      "needs_background": "light"
     },
     "output_type": "display_data"
    }
   ],
   "source": [
    "%matplotlib inline\n",
    "import matplotlib.pyplot as plt\n",
    "split_date='01-Jan-2019'\n",
    "\n",
    "train=df_arch.loc[df_arch.index<=split_date].copy()\n",
    "test=df_arch.loc[df_arch.index>split_date].copy()\n",
    "train=train.reset_index().rename(columns={'Date':'ds', 'Stocks_price_usd':'y'})\n",
    "test=test.reset_index().rename(columns={'Date':'ds', 'Stocks_price_usd':'y'})\n",
    "train.head()\n",
    "m=Prophet().fit(train)\n",
    "\n",
    "forecast=m.predict(test)\n",
    "f, ax=plt.subplots(1)\n",
    "f.set_figheight(5)\n",
    "f.set_figwidth(15)\n",
    "fig=m.plot(forecast, ax=ax)"
   ]
  },
  {
   "cell_type": "code",
   "execution_count": 60,
   "metadata": {},
   "outputs": [
    {
     "data": {
      "image/png": "[encoded data removed]",
      "text/plain": [
       "<Figure size 720x432 with 1 Axes>"
      ]
     },
     "metadata": {},
     "output_type": "display_data"
    }
   ],
   "source": [
    "deltas = m.params['delta'].mean(0)\n",
    "fig = plt.figure(facecolor='w', figsize=(10, 6))\n",
    "ax = fig.add_subplot(111)\n",
    "ax.bar(range(len(deltas)), deltas, facecolor='#0072B2', edgecolor='#0072B2')\n",
    "ax.grid(True, which='major', c='gray', ls='-', lw=1, alpha=0.2)\n",
    "ax.set_ylabel('Rate change')\n",
    "ax.set_xlabel('Potential changepoint')\n",
    "fig.tight_layout()"
   ]
  },
  {
   "cell_type": "code",
   "execution_count": 61,
   "metadata": {},
   "outputs": [
    {
     "data": {
      "image/png": "[encoded data removed]",
      "text/plain": [
       "<Figure size 720x432 with 1 Axes>"
      ]
     },
     "metadata": {},
     "output_type": "display_data"
    }
   ],
   "source": [
    "ig = m.plot(forecast)\n",
    "a = add_changepoints_to_plot(fig.gca(), m, forecast)"
   ]
  },
  {
   "cell_type": "code",
   "execution_count": 62,
   "metadata": {},
   "outputs": [
    {
     "name": "stderr",
     "output_type": "stream",
     "text": [
      "INFO:fbprophet:Disabling weekly seasonality. Run prophet with weekly_seasonality=True to override this.\n",
      "INFO:fbprophet:Disabling daily seasonality. Run prophet with daily_seasonality=True to override this.\n"
     ]
    },
    {
     "data": {
      "image/png": "[encoded data removed]",
      "text/plain": [
       "<Figure size 720x432 with 1 Axes>"
      ]
     },
     "metadata": {},
     "output_type": "display_data"
    }
   ],
   "source": [
    "m = Prophet(changepoints=['01-Dec-2014'])\n",
    "forecast = m.fit(train).predict(test)\n",
    "fig = m.plot(forecast)"
   ]
  },
  {
   "cell_type": "code",
   "execution_count": 63,
   "metadata": {},
   "outputs": [
    {
     "data": {
      "image/png": "[encoded data removed]",
      "text/plain": [
       "<Figure size 1080x360 with 1 Axes>"
      ]
     },
     "metadata": {
      "needs_background": "light"
     },
     "output_type": "display_data"
    }
   ],
   "source": [
    "f, ax=plt.subplots(1)\n",
    "f.set_figheight(5)\n",
    "f.set_figwidth(15)\n",
    "ax.scatter(test.ds, test.y, color='g')\n",
    "fig=m.plot(forecast, ax)"
   ]
  },
  {
   "cell_type": "code",
   "execution_count": 80,
   "metadata": {},
   "outputs": [
    {
     "data": {
      "text/html": [
       "<div>\n",
       "<style scoped>\n",
       "    .dataframe tbody tr th:only-of-type {\n",
       "        vertical-align: middle;\n",
       "    }\n",
       "\n",
       "    .dataframe tbody tr th {\n",
       "        vertical-align: top;\n",
       "    }\n",
       "\n",
       "    .dataframe thead th {\n",
       "        text-align: right;\n",
       "    }\n",
       "</style>\n",
       "<table border=\"1\" class=\"dataframe\">\n",
       "  <thead>\n",
       "    <tr style=\"text-align: right;\">\n",
       "      <th></th>\n",
       "      <th>Real</th>\n",
       "      <th>Predicitions</th>\n",
       "      <th>Difference</th>\n",
       "    </tr>\n",
       "    <tr>\n",
       "      <th>Date</th>\n",
       "      <th></th>\n",
       "      <th></th>\n",
       "      <th></th>\n",
       "    </tr>\n",
       "  </thead>\n",
       "  <tbody>\n",
       "    <tr>\n",
       "      <th>2019-11-01</th>\n",
       "      <td>57.03</td>\n",
       "      <td>53.872767</td>\n",
       "      <td>-3.157233</td>\n",
       "    </tr>\n",
       "    <tr>\n",
       "      <th>2019-12-01</th>\n",
       "      <td>59.88</td>\n",
       "      <td>61.065622</td>\n",
       "      <td>1.185622</td>\n",
       "    </tr>\n",
       "    <tr>\n",
       "      <th>2020-01-01</th>\n",
       "      <td>57.52</td>\n",
       "      <td>52.130249</td>\n",
       "      <td>-5.389751</td>\n",
       "    </tr>\n",
       "    <tr>\n",
       "      <th>2020-02-01</th>\n",
       "      <td>50.54</td>\n",
       "      <td>45.026128</td>\n",
       "      <td>-5.513872</td>\n",
       "    </tr>\n",
       "    <tr>\n",
       "      <th>2020-03-01</th>\n",
       "      <td>29.21</td>\n",
       "      <td>21.259842</td>\n",
       "      <td>-7.950158</td>\n",
       "    </tr>\n",
       "  </tbody>\n",
       "</table>\n",
       "</div>"
      ],
      "text/plain": [
       "             Real  Predicitions  Difference\n",
       "Date                                       \n",
       "2019-11-01  57.03     53.872767   -3.157233\n",
       "2019-12-01  59.88     61.065622    1.185622\n",
       "2020-01-01  57.52     52.130249   -5.389751\n",
       "2020-02-01  50.54     45.026128   -5.513872\n",
       "2020-03-01  29.21     21.259842   -7.950158"
      ]
     },
     "execution_count": 80,
     "metadata": {},
     "output_type": "execute_result"
    }
   ],
   "source": [
    "dffinal.tail()"
   ]
  },
  {
   "cell_type": "code",
   "execution_count": 65,
   "metadata": {},
   "outputs": [],
   "source": [
    "preds=pd.read_csv('../data/preds.csv')"
   ]
  },
  {
   "cell_type": "code",
   "execution_count": 66,
   "metadata": {},
   "outputs": [
    {
     "data": {
      "text/html": [
       "<div>\n",
       "<style scoped>\n",
       "    .dataframe tbody tr th:only-of-type {\n",
       "        vertical-align: middle;\n",
       "    }\n",
       "\n",
       "    .dataframe tbody tr th {\n",
       "        vertical-align: top;\n",
       "    }\n",
       "\n",
       "    .dataframe thead th {\n",
       "        text-align: right;\n",
       "    }\n",
       "</style>\n",
       "<table border=\"1\" class=\"dataframe\">\n",
       "  <thead>\n",
       "    <tr style=\"text-align: right;\">\n",
       "      <th></th>\n",
       "      <th>Fecha</th>\n",
       "      <th>Cierre</th>\n",
       "      <th>Apertura</th>\n",
       "      <th>Máximo</th>\n",
       "      <th>Mínimo</th>\n",
       "      <th>Vol.</th>\n",
       "      <th>% var.</th>\n",
       "    </tr>\n",
       "  </thead>\n",
       "  <tbody>\n",
       "    <tr>\n",
       "      <th>0</th>\n",
       "      <td>May 2020</td>\n",
       "      <td>31.70</td>\n",
       "      <td>19.56</td>\n",
       "      <td>33.07</td>\n",
       "      <td>18.05</td>\n",
       "      <td>36.07K</td>\n",
       "      <td>62.07%</td>\n",
       "    </tr>\n",
       "    <tr>\n",
       "      <th>1</th>\n",
       "      <td>Abr 2020</td>\n",
       "      <td>19.56</td>\n",
       "      <td>20.30</td>\n",
       "      <td>29.12</td>\n",
       "      <td>6.55</td>\n",
       "      <td>6.30M</td>\n",
       "      <td>-4.49%</td>\n",
       "    </tr>\n",
       "    <tr>\n",
       "      <th>2</th>\n",
       "      <td>Mar 2020</td>\n",
       "      <td>20.48</td>\n",
       "      <td>43.70</td>\n",
       "      <td>48.66</td>\n",
       "      <td>19.27</td>\n",
       "      <td>16.68M</td>\n",
       "      <td>-54.24%</td>\n",
       "    </tr>\n",
       "  </tbody>\n",
       "</table>\n",
       "</div>"
      ],
      "text/plain": [
       "      Fecha  Cierre  Apertura  Máximo  Mínimo    Vol.   % var.\n",
       "0  May 2020   31.70     19.56   33.07   18.05  36.07K   62.07%\n",
       "1  Abr 2020   19.56     20.30   29.12    6.55   6.30M   -4.49%\n",
       "2  Mar 2020   20.48     43.70   48.66   19.27  16.68M  -54.24%"
      ]
     },
     "execution_count": 66,
     "metadata": {},
     "output_type": "execute_result"
    }
   ],
   "source": [
    "preds.head()"
   ]
  },
  {
   "cell_type": "code",
   "execution_count": 67,
   "metadata": {},
   "outputs": [],
   "source": [
    "clean(preds,'Futuro')"
   ]
  },
  {
   "cell_type": "code",
   "execution_count": 68,
   "metadata": {},
   "outputs": [
    {
     "data": {
      "text/html": [
       "<div>\n",
       "<style scoped>\n",
       "    .dataframe tbody tr th:only-of-type {\n",
       "        vertical-align: middle;\n",
       "    }\n",
       "\n",
       "    .dataframe tbody tr th {\n",
       "        vertical-align: top;\n",
       "    }\n",
       "\n",
       "    .dataframe thead th {\n",
       "        text-align: right;\n",
       "    }\n",
       "</style>\n",
       "<table border=\"1\" class=\"dataframe\">\n",
       "  <thead>\n",
       "    <tr style=\"text-align: right;\">\n",
       "      <th></th>\n",
       "      <th>Date</th>\n",
       "      <th>Futuro</th>\n",
       "    </tr>\n",
       "  </thead>\n",
       "  <tbody>\n",
       "    <tr>\n",
       "      <th>0</th>\n",
       "      <td>2020-03-01</td>\n",
       "      <td>20.48</td>\n",
       "    </tr>\n",
       "    <tr>\n",
       "      <th>1</th>\n",
       "      <td>2020-04-01</td>\n",
       "      <td>19.56</td>\n",
       "    </tr>\n",
       "    <tr>\n",
       "      <th>2</th>\n",
       "      <td>2020-05-01</td>\n",
       "      <td>31.70</td>\n",
       "    </tr>\n",
       "  </tbody>\n",
       "</table>\n",
       "</div>"
      ],
      "text/plain": [
       "        Date  Futuro\n",
       "0 2020-03-01   20.48\n",
       "1 2020-04-01   19.56\n",
       "2 2020-05-01   31.70"
      ]
     },
     "execution_count": 68,
     "metadata": {},
     "output_type": "execute_result"
    }
   ],
   "source": [
    "preds.head()"
   ]
  },
  {
   "cell_type": "code",
   "execution_count": 69,
   "metadata": {},
   "outputs": [],
   "source": [
    "preds.insert(1, \"Refiners_Cost_usd\", [32.72, 25.80, 29.1], True)\n",
    "preds.insert(2, \"usd\", [99.92, 99.028, 99.48], True)\n",
    "preds.insert(3, \"Pandemics\", [1, 1, 1], True)"
   ]
  },
  {
   "cell_type": "code",
   "execution_count": 70,
   "metadata": {},
   "outputs": [],
   "source": [
    "preds.insert(0, \"Crude_oil_price_usd\", [29.21, 15.10, 26.5], True)\n",
    "preds.insert(4, \"Month\", [3, 4, 5], True)\n",
    "preds.insert(5, \"Year\", [2020, 2020, 2020], True)"
   ]
  },
  {
   "cell_type": "code",
   "execution_count": 71,
   "metadata": {},
   "outputs": [],
   "source": [
    "df2 = pd.DataFrame({\"Crude_oil_price_usd\":[28.4,30.7,32.9,34.5,37.1,38.1,38.5,37.1,38.3], \n",
    "                    \"Refiners_Cost_usd\":[31.4,32.7,34.9,36.5,39.1,40.1,38.5,38.1,40.3],\n",
    "                    \"usd\":[99.4,99.62,99.51,99.6,99.5,99.85,99.53,99.62,99.81],\n",
    "                    \"Month\":[6,7,8,9,10,11,12,1,2],\n",
    "                    \"Year\":[2020,2020,2020,2020,2020,2020,2020,2021,2021],\n",
    "                    \"Pandemics\":[1,1,1,1,1,1,1,1,1],}) "
   ]
  },
  {
   "cell_type": "code",
   "execution_count": 72,
   "metadata": {},
   "outputs": [
    {
     "data": {
      "text/html": [
       "<div>\n",
       "<style scoped>\n",
       "    .dataframe tbody tr th:only-of-type {\n",
       "        vertical-align: middle;\n",
       "    }\n",
       "\n",
       "    .dataframe tbody tr th {\n",
       "        vertical-align: top;\n",
       "    }\n",
       "\n",
       "    .dataframe thead th {\n",
       "        text-align: right;\n",
       "    }\n",
       "</style>\n",
       "<table border=\"1\" class=\"dataframe\">\n",
       "  <thead>\n",
       "    <tr style=\"text-align: right;\">\n",
       "      <th></th>\n",
       "      <th>Crude_oil_price_usd</th>\n",
       "      <th>Refiners_Cost_usd</th>\n",
       "      <th>usd</th>\n",
       "      <th>Month</th>\n",
       "      <th>Year</th>\n",
       "      <th>Pandemics</th>\n",
       "      <th>Futuro</th>\n",
       "    </tr>\n",
       "  </thead>\n",
       "  <tbody>\n",
       "    <tr>\n",
       "      <th>0</th>\n",
       "      <td>29.21</td>\n",
       "      <td>32.72</td>\n",
       "      <td>99.920</td>\n",
       "      <td>3</td>\n",
       "      <td>2020</td>\n",
       "      <td>1</td>\n",
       "      <td>20.48</td>\n",
       "    </tr>\n",
       "    <tr>\n",
       "      <th>1</th>\n",
       "      <td>15.10</td>\n",
       "      <td>25.80</td>\n",
       "      <td>99.028</td>\n",
       "      <td>4</td>\n",
       "      <td>2020</td>\n",
       "      <td>1</td>\n",
       "      <td>19.56</td>\n",
       "    </tr>\n",
       "    <tr>\n",
       "      <th>2</th>\n",
       "      <td>26.50</td>\n",
       "      <td>29.10</td>\n",
       "      <td>99.480</td>\n",
       "      <td>5</td>\n",
       "      <td>2020</td>\n",
       "      <td>1</td>\n",
       "      <td>31.70</td>\n",
       "    </tr>\n",
       "  </tbody>\n",
       "</table>\n",
       "</div>"
      ],
      "text/plain": [
       "   Crude_oil_price_usd  Refiners_Cost_usd     usd  Month  Year  Pandemics  \\\n",
       "0                29.21              32.72  99.920      3  2020          1   \n",
       "1                15.10              25.80  99.028      4  2020          1   \n",
       "2                26.50              29.10  99.480      5  2020          1   \n",
       "\n",
       "   Futuro  \n",
       "0   20.48  \n",
       "1   19.56  \n",
       "2   31.70  "
      ]
     },
     "execution_count": 72,
     "metadata": {},
     "output_type": "execute_result"
    }
   ],
   "source": [
    "preds.drop('Date',axis=1,inplace=True)\n",
    "preds.head()"
   ]
  },
  {
   "cell_type": "code",
   "execution_count": 73,
   "metadata": {},
   "outputs": [
    {
     "data": {
      "text/html": [
       "<div>\n",
       "<style scoped>\n",
       "    .dataframe tbody tr th:only-of-type {\n",
       "        vertical-align: middle;\n",
       "    }\n",
       "\n",
       "    .dataframe tbody tr th {\n",
       "        vertical-align: top;\n",
       "    }\n",
       "\n",
       "    .dataframe thead th {\n",
       "        text-align: right;\n",
       "    }\n",
       "</style>\n",
       "<table border=\"1\" class=\"dataframe\">\n",
       "  <thead>\n",
       "    <tr style=\"text-align: right;\">\n",
       "      <th></th>\n",
       "      <th>Crude_oil_price_usd</th>\n",
       "      <th>Refiners_Cost_usd</th>\n",
       "      <th>usd</th>\n",
       "      <th>Month</th>\n",
       "      <th>Year</th>\n",
       "      <th>Pandemics</th>\n",
       "    </tr>\n",
       "  </thead>\n",
       "  <tbody>\n",
       "    <tr>\n",
       "      <th>0</th>\n",
       "      <td>28.4</td>\n",
       "      <td>31.4</td>\n",
       "      <td>99.40</td>\n",
       "      <td>6</td>\n",
       "      <td>2020</td>\n",
       "      <td>1</td>\n",
       "    </tr>\n",
       "    <tr>\n",
       "      <th>1</th>\n",
       "      <td>30.7</td>\n",
       "      <td>32.7</td>\n",
       "      <td>99.62</td>\n",
       "      <td>7</td>\n",
       "      <td>2020</td>\n",
       "      <td>1</td>\n",
       "    </tr>\n",
       "    <tr>\n",
       "      <th>2</th>\n",
       "      <td>32.9</td>\n",
       "      <td>34.9</td>\n",
       "      <td>99.51</td>\n",
       "      <td>8</td>\n",
       "      <td>2020</td>\n",
       "      <td>1</td>\n",
       "    </tr>\n",
       "    <tr>\n",
       "      <th>3</th>\n",
       "      <td>34.5</td>\n",
       "      <td>36.5</td>\n",
       "      <td>99.60</td>\n",
       "      <td>9</td>\n",
       "      <td>2020</td>\n",
       "      <td>1</td>\n",
       "    </tr>\n",
       "    <tr>\n",
       "      <th>4</th>\n",
       "      <td>37.1</td>\n",
       "      <td>39.1</td>\n",
       "      <td>99.50</td>\n",
       "      <td>10</td>\n",
       "      <td>2020</td>\n",
       "      <td>1</td>\n",
       "    </tr>\n",
       "  </tbody>\n",
       "</table>\n",
       "</div>"
      ],
      "text/plain": [
       "   Crude_oil_price_usd  Refiners_Cost_usd    usd  Month  Year  Pandemics\n",
       "0                 28.4               31.4  99.40      6  2020          1\n",
       "1                 30.7               32.7  99.62      7  2020          1\n",
       "2                 32.9               34.9  99.51      8  2020          1\n",
       "3                 34.5               36.5  99.60      9  2020          1\n",
       "4                 37.1               39.1  99.50     10  2020          1"
      ]
     },
     "execution_count": 73,
     "metadata": {},
     "output_type": "execute_result"
    }
   ],
   "source": [
    "df2.head()"
   ]
  },
  {
   "cell_type": "code",
   "execution_count": 74,
   "metadata": {},
   "outputs": [],
   "source": [
    "preds=preds.append(df2, ignore_index = True)"
   ]
  },
  {
   "cell_type": "code",
   "execution_count": 75,
   "metadata": {},
   "outputs": [
    {
     "data": {
      "text/html": [
       "<div>\n",
       "<style scoped>\n",
       "    .dataframe tbody tr th:only-of-type {\n",
       "        vertical-align: middle;\n",
       "    }\n",
       "\n",
       "    .dataframe tbody tr th {\n",
       "        vertical-align: top;\n",
       "    }\n",
       "\n",
       "    .dataframe thead th {\n",
       "        text-align: right;\n",
       "    }\n",
       "</style>\n",
       "<table border=\"1\" class=\"dataframe\">\n",
       "  <thead>\n",
       "    <tr style=\"text-align: right;\">\n",
       "      <th></th>\n",
       "      <th>Crude_oil_price_usd</th>\n",
       "      <th>Refiners_Cost_usd</th>\n",
       "      <th>usd</th>\n",
       "      <th>Month</th>\n",
       "      <th>Year</th>\n",
       "      <th>Pandemics</th>\n",
       "      <th>Futuro</th>\n",
       "    </tr>\n",
       "  </thead>\n",
       "  <tbody>\n",
       "    <tr>\n",
       "      <th>0</th>\n",
       "      <td>29.21</td>\n",
       "      <td>32.72</td>\n",
       "      <td>99.920</td>\n",
       "      <td>3</td>\n",
       "      <td>2020</td>\n",
       "      <td>1</td>\n",
       "      <td>20.48</td>\n",
       "    </tr>\n",
       "    <tr>\n",
       "      <th>1</th>\n",
       "      <td>15.10</td>\n",
       "      <td>25.80</td>\n",
       "      <td>99.028</td>\n",
       "      <td>4</td>\n",
       "      <td>2020</td>\n",
       "      <td>1</td>\n",
       "      <td>19.56</td>\n",
       "    </tr>\n",
       "    <tr>\n",
       "      <th>2</th>\n",
       "      <td>26.50</td>\n",
       "      <td>29.10</td>\n",
       "      <td>99.480</td>\n",
       "      <td>5</td>\n",
       "      <td>2020</td>\n",
       "      <td>1</td>\n",
       "      <td>31.70</td>\n",
       "    </tr>\n",
       "    <tr>\n",
       "      <th>3</th>\n",
       "      <td>28.40</td>\n",
       "      <td>31.40</td>\n",
       "      <td>99.400</td>\n",
       "      <td>6</td>\n",
       "      <td>2020</td>\n",
       "      <td>1</td>\n",
       "      <td>NaN</td>\n",
       "    </tr>\n",
       "    <tr>\n",
       "      <th>4</th>\n",
       "      <td>30.70</td>\n",
       "      <td>32.70</td>\n",
       "      <td>99.620</td>\n",
       "      <td>7</td>\n",
       "      <td>2020</td>\n",
       "      <td>1</td>\n",
       "      <td>NaN</td>\n",
       "    </tr>\n",
       "  </tbody>\n",
       "</table>\n",
       "</div>"
      ],
      "text/plain": [
       "   Crude_oil_price_usd  Refiners_Cost_usd     usd  Month  Year  Pandemics  \\\n",
       "0                29.21              32.72  99.920      3  2020          1   \n",
       "1                15.10              25.80  99.028      4  2020          1   \n",
       "2                26.50              29.10  99.480      5  2020          1   \n",
       "3                28.40              31.40  99.400      6  2020          1   \n",
       "4                30.70              32.70  99.620      7  2020          1   \n",
       "\n",
       "   Futuro  \n",
       "0   20.48  \n",
       "1   19.56  \n",
       "2   31.70  \n",
       "3     NaN  \n",
       "4     NaN  "
      ]
     },
     "execution_count": 75,
     "metadata": {},
     "output_type": "execute_result"
    }
   ],
   "source": [
    "preds.head()"
   ]
  },
  {
   "cell_type": "code",
   "execution_count": 76,
   "metadata": {},
   "outputs": [],
   "source": [
    "futuro=preds.Futuro\n",
    "preds.drop('Futuro',axis=1,inplace=True)"
   ]
  },
  {
   "cell_type": "code",
   "execution_count": 77,
   "metadata": {},
   "outputs": [],
   "source": [
    "res=modelo.predict(preds)"
   ]
  },
  {
   "cell_type": "code",
   "execution_count": 78,
   "metadata": {},
   "outputs": [
    {
     "data": {
      "text/html": [
       "<div>\n",
       "<style scoped>\n",
       "    .dataframe tbody tr th:only-of-type {\n",
       "        vertical-align: middle;\n",
       "    }\n",
       "\n",
       "    .dataframe tbody tr th {\n",
       "        vertical-align: top;\n",
       "    }\n",
       "\n",
       "    .dataframe thead th {\n",
       "        text-align: right;\n",
       "    }\n",
       "</style>\n",
       "<table border=\"1\" class=\"dataframe\">\n",
       "  <thead>\n",
       "    <tr style=\"text-align: right;\">\n",
       "      <th></th>\n",
       "      <th>Crude_oil_price_usd</th>\n",
       "      <th>Refiners_Cost_usd</th>\n",
       "      <th>usd</th>\n",
       "      <th>Month</th>\n",
       "      <th>Year</th>\n",
       "      <th>Pandemics</th>\n",
       "      <th>Predicitions</th>\n",
       "      <th>Real</th>\n",
       "    </tr>\n",
       "  </thead>\n",
       "  <tbody>\n",
       "    <tr>\n",
       "      <th>0</th>\n",
       "      <td>29.21</td>\n",
       "      <td>32.72</td>\n",
       "      <td>99.920</td>\n",
       "      <td>3</td>\n",
       "      <td>2020</td>\n",
       "      <td>1</td>\n",
       "      <td>28.188251</td>\n",
       "      <td>20.48</td>\n",
       "    </tr>\n",
       "    <tr>\n",
       "      <th>1</th>\n",
       "      <td>15.10</td>\n",
       "      <td>25.80</td>\n",
       "      <td>99.028</td>\n",
       "      <td>4</td>\n",
       "      <td>2020</td>\n",
       "      <td>1</td>\n",
       "      <td>15.780648</td>\n",
       "      <td>19.56</td>\n",
       "    </tr>\n",
       "    <tr>\n",
       "      <th>2</th>\n",
       "      <td>26.50</td>\n",
       "      <td>29.10</td>\n",
       "      <td>99.480</td>\n",
       "      <td>5</td>\n",
       "      <td>2020</td>\n",
       "      <td>1</td>\n",
       "      <td>27.081335</td>\n",
       "      <td>31.70</td>\n",
       "    </tr>\n",
       "    <tr>\n",
       "      <th>3</th>\n",
       "      <td>28.40</td>\n",
       "      <td>31.40</td>\n",
       "      <td>99.400</td>\n",
       "      <td>6</td>\n",
       "      <td>2020</td>\n",
       "      <td>1</td>\n",
       "      <td>27.951528</td>\n",
       "      <td>NaN</td>\n",
       "    </tr>\n",
       "    <tr>\n",
       "      <th>4</th>\n",
       "      <td>30.70</td>\n",
       "      <td>32.70</td>\n",
       "      <td>99.620</td>\n",
       "      <td>7</td>\n",
       "      <td>2020</td>\n",
       "      <td>1</td>\n",
       "      <td>31.412651</td>\n",
       "      <td>NaN</td>\n",
       "    </tr>\n",
       "  </tbody>\n",
       "</table>\n",
       "</div>"
      ],
      "text/plain": [
       "   Crude_oil_price_usd  Refiners_Cost_usd     usd  Month  Year  Pandemics  \\\n",
       "0                29.21              32.72  99.920      3  2020          1   \n",
       "1                15.10              25.80  99.028      4  2020          1   \n",
       "2                26.50              29.10  99.480      5  2020          1   \n",
       "3                28.40              31.40  99.400      6  2020          1   \n",
       "4                30.70              32.70  99.620      7  2020          1   \n",
       "\n",
       "   Predicitions   Real  \n",
       "0     28.188251  20.48  \n",
       "1     15.780648  19.56  \n",
       "2     27.081335  31.70  \n",
       "3     27.951528    NaN  \n",
       "4     31.412651    NaN  "
      ]
     },
     "execution_count": 78,
     "metadata": {},
     "output_type": "execute_result"
    }
   ],
   "source": [
    "preds['Predicitions']=res\n",
    "preds['Real']=futuro\n",
    "preds.head()"
   ]
  },
  {
   "cell_type": "code",
   "execution_count": 79,
   "metadata": {},
   "outputs": [
    {
     "data": {
      "text/html": [
       "<div>\n",
       "<style scoped>\n",
       "    .dataframe tbody tr th:only-of-type {\n",
       "        vertical-align: middle;\n",
       "    }\n",
       "\n",
       "    .dataframe tbody tr th {\n",
       "        vertical-align: top;\n",
       "    }\n",
       "\n",
       "    .dataframe thead th {\n",
       "        text-align: right;\n",
       "    }\n",
       "</style>\n",
       "<table border=\"1\" class=\"dataframe\">\n",
       "  <thead>\n",
       "    <tr style=\"text-align: right;\">\n",
       "      <th></th>\n",
       "      <th>Crude_oil_price_usd</th>\n",
       "      <th>Refiners_Cost_usd</th>\n",
       "      <th>usd</th>\n",
       "      <th>Month</th>\n",
       "      <th>Year</th>\n",
       "      <th>Pandemics</th>\n",
       "      <th>Predicitions</th>\n",
       "      <th>Real</th>\n",
       "    </tr>\n",
       "  </thead>\n",
       "  <tbody>\n",
       "    <tr>\n",
       "      <th>0</th>\n",
       "      <td>29.21</td>\n",
       "      <td>32.72</td>\n",
       "      <td>99.920</td>\n",
       "      <td>3</td>\n",
       "      <td>2020</td>\n",
       "      <td>1</td>\n",
       "      <td>28.188251</td>\n",
       "      <td>20.48</td>\n",
       "    </tr>\n",
       "    <tr>\n",
       "      <th>1</th>\n",
       "      <td>15.10</td>\n",
       "      <td>25.80</td>\n",
       "      <td>99.028</td>\n",
       "      <td>4</td>\n",
       "      <td>2020</td>\n",
       "      <td>1</td>\n",
       "      <td>15.780648</td>\n",
       "      <td>19.56</td>\n",
       "    </tr>\n",
       "    <tr>\n",
       "      <th>2</th>\n",
       "      <td>26.50</td>\n",
       "      <td>29.10</td>\n",
       "      <td>99.480</td>\n",
       "      <td>5</td>\n",
       "      <td>2020</td>\n",
       "      <td>1</td>\n",
       "      <td>27.081335</td>\n",
       "      <td>31.70</td>\n",
       "    </tr>\n",
       "    <tr>\n",
       "      <th>3</th>\n",
       "      <td>28.40</td>\n",
       "      <td>31.40</td>\n",
       "      <td>99.400</td>\n",
       "      <td>6</td>\n",
       "      <td>2020</td>\n",
       "      <td>1</td>\n",
       "      <td>27.951528</td>\n",
       "      <td>NaN</td>\n",
       "    </tr>\n",
       "    <tr>\n",
       "      <th>4</th>\n",
       "      <td>30.70</td>\n",
       "      <td>32.70</td>\n",
       "      <td>99.620</td>\n",
       "      <td>7</td>\n",
       "      <td>2020</td>\n",
       "      <td>1</td>\n",
       "      <td>31.412651</td>\n",
       "      <td>NaN</td>\n",
       "    </tr>\n",
       "    <tr>\n",
       "      <th>5</th>\n",
       "      <td>32.90</td>\n",
       "      <td>34.90</td>\n",
       "      <td>99.510</td>\n",
       "      <td>8</td>\n",
       "      <td>2020</td>\n",
       "      <td>1</td>\n",
       "      <td>33.566328</td>\n",
       "      <td>NaN</td>\n",
       "    </tr>\n",
       "    <tr>\n",
       "      <th>6</th>\n",
       "      <td>34.50</td>\n",
       "      <td>36.50</td>\n",
       "      <td>99.600</td>\n",
       "      <td>9</td>\n",
       "      <td>2020</td>\n",
       "      <td>1</td>\n",
       "      <td>36.971293</td>\n",
       "      <td>NaN</td>\n",
       "    </tr>\n",
       "    <tr>\n",
       "      <th>7</th>\n",
       "      <td>37.10</td>\n",
       "      <td>39.10</td>\n",
       "      <td>99.500</td>\n",
       "      <td>10</td>\n",
       "      <td>2020</td>\n",
       "      <td>1</td>\n",
       "      <td>39.932676</td>\n",
       "      <td>NaN</td>\n",
       "    </tr>\n",
       "    <tr>\n",
       "      <th>8</th>\n",
       "      <td>38.10</td>\n",
       "      <td>40.10</td>\n",
       "      <td>99.850</td>\n",
       "      <td>11</td>\n",
       "      <td>2020</td>\n",
       "      <td>1</td>\n",
       "      <td>40.485511</td>\n",
       "      <td>NaN</td>\n",
       "    </tr>\n",
       "    <tr>\n",
       "      <th>9</th>\n",
       "      <td>38.50</td>\n",
       "      <td>38.50</td>\n",
       "      <td>99.530</td>\n",
       "      <td>12</td>\n",
       "      <td>2020</td>\n",
       "      <td>1</td>\n",
       "      <td>40.305452</td>\n",
       "      <td>NaN</td>\n",
       "    </tr>\n",
       "    <tr>\n",
       "      <th>10</th>\n",
       "      <td>37.10</td>\n",
       "      <td>38.10</td>\n",
       "      <td>99.620</td>\n",
       "      <td>1</td>\n",
       "      <td>2021</td>\n",
       "      <td>1</td>\n",
       "      <td>39.959855</td>\n",
       "      <td>NaN</td>\n",
       "    </tr>\n",
       "    <tr>\n",
       "      <th>11</th>\n",
       "      <td>38.30</td>\n",
       "      <td>40.30</td>\n",
       "      <td>99.810</td>\n",
       "      <td>2</td>\n",
       "      <td>2021</td>\n",
       "      <td>1</td>\n",
       "      <td>40.476470</td>\n",
       "      <td>NaN</td>\n",
       "    </tr>\n",
       "  </tbody>\n",
       "</table>\n",
       "</div>"
      ],
      "text/plain": [
       "    Crude_oil_price_usd  Refiners_Cost_usd     usd  Month  Year  Pandemics  \\\n",
       "0                 29.21              32.72  99.920      3  2020          1   \n",
       "1                 15.10              25.80  99.028      4  2020          1   \n",
       "2                 26.50              29.10  99.480      5  2020          1   \n",
       "3                 28.40              31.40  99.400      6  2020          1   \n",
       "4                 30.70              32.70  99.620      7  2020          1   \n",
       "5                 32.90              34.90  99.510      8  2020          1   \n",
       "6                 34.50              36.50  99.600      9  2020          1   \n",
       "7                 37.10              39.10  99.500     10  2020          1   \n",
       "8                 38.10              40.10  99.850     11  2020          1   \n",
       "9                 38.50              38.50  99.530     12  2020          1   \n",
       "10                37.10              38.10  99.620      1  2021          1   \n",
       "11                38.30              40.30  99.810      2  2021          1   \n",
       "\n",
       "    Predicitions   Real  \n",
       "0      28.188251  20.48  \n",
       "1      15.780648  19.56  \n",
       "2      27.081335  31.70  \n",
       "3      27.951528    NaN  \n",
       "4      31.412651    NaN  \n",
       "5      33.566328    NaN  \n",
       "6      36.971293    NaN  \n",
       "7      39.932676    NaN  \n",
       "8      40.485511    NaN  \n",
       "9      40.305452    NaN  \n",
       "10     39.959855    NaN  \n",
       "11     40.476470    NaN  "
      ]
     },
     "execution_count": 79,
     "metadata": {},
     "output_type": "execute_result"
    }
   ],
   "source": [
    "preds"
   ]
  },
  {
   "cell_type": "code",
   "execution_count": 81,
   "metadata": {},
   "outputs": [],
   "source": [
    "preds.to_csv('One year prediction.csv')"
   ]
  },
  {
   "cell_type": "code",
   "execution_count": null,
   "metadata": {},
   "outputs": [],
   "source": []
  }
 ],
 "metadata": {
  "kernelspec": {
   "display_name": "Python 3",
   "language": "python",
   "name": "python3"
  },
  "language_info": {
   "codemirror_mode": {
    "name": "ipython",
    "version": 3
   },
   "file_extension": ".py",
   "mimetype": "text/x-python",
   "name": "python",
   "nbconvert_exporter": "python",
   "pygments_lexer": "ipython3",
   "version": "3.6.9"
  }
 },
 "nbformat": 4,
 "nbformat_minor": 4
}
